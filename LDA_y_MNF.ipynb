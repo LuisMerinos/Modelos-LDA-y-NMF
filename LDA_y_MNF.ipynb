{
  "nbformat": 4,
  "nbformat_minor": 0,
  "metadata": {
    "colab": {
      "name": "LDA y MNF.ipynb",
      "provenance": [],
      "collapsed_sections": [],
      "authorship_tag": "ABX9TyOHE3h/7l4bGHje/fJQxvev",
      "include_colab_link": true
    },
    "kernelspec": {
      "name": "python3",
      "display_name": "Python 3"
    },
    "language_info": {
      "name": "python"
    }
  },
  "cells": [
    {
      "cell_type": "markdown",
      "metadata": {
        "id": "view-in-github",
        "colab_type": "text"
      },
      "source": [
        "<a href=\"https://colab.research.google.com/github/LuisMerinos/Modelos-LDA-y-NMF/blob/main/LDA_y_MNF.ipynb\" target=\"_parent\"><img src=\"https://colab.research.google.com/assets/colab-badge.svg\" alt=\"Open In Colab\"/></a>"
      ]
    },
    {
      "cell_type": "markdown",
      "source": [
        "\n",
        "# **Instalación de librerias**"
      ],
      "metadata": {
        "id": "cmtBzaWntu2J"
      }
    },
    {
      "cell_type": "code",
      "execution_count": null,
      "metadata": {
        "colab": {
          "base_uri": "https://localhost:8080/"
        },
        "id": "f9_PDf7dtsro",
        "outputId": "cde35061-ebe5-4616-d460-b34f79620ba7"
      },
      "outputs": [
        {
          "output_type": "stream",
          "name": "stdout",
          "text": [
            "Collecting es_core_news_sm==2.2.5\n",
            "  Downloading https://github.com/explosion/spacy-models/releases/download/es_core_news_sm-2.2.5/es_core_news_sm-2.2.5.tar.gz (16.2 MB)\n",
            "\u001b[K     |████████████████████████████████| 16.2 MB 2.1 MB/s \n",
            "\u001b[?25hRequirement already satisfied: spacy>=2.2.2 in /usr/local/lib/python3.7/dist-packages (from es_core_news_sm==2.2.5) (2.2.4)\n",
            "Requirement already satisfied: cymem<2.1.0,>=2.0.2 in /usr/local/lib/python3.7/dist-packages (from spacy>=2.2.2->es_core_news_sm==2.2.5) (2.0.6)\n",
            "Requirement already satisfied: srsly<1.1.0,>=1.0.2 in /usr/local/lib/python3.7/dist-packages (from spacy>=2.2.2->es_core_news_sm==2.2.5) (1.0.5)\n",
            "Requirement already satisfied: preshed<3.1.0,>=3.0.2 in /usr/local/lib/python3.7/dist-packages (from spacy>=2.2.2->es_core_news_sm==2.2.5) (3.0.6)\n",
            "Requirement already satisfied: plac<1.2.0,>=0.9.6 in /usr/local/lib/python3.7/dist-packages (from spacy>=2.2.2->es_core_news_sm==2.2.5) (1.1.3)\n",
            "Requirement already satisfied: wasabi<1.1.0,>=0.4.0 in /usr/local/lib/python3.7/dist-packages (from spacy>=2.2.2->es_core_news_sm==2.2.5) (0.9.0)\n",
            "Requirement already satisfied: murmurhash<1.1.0,>=0.28.0 in /usr/local/lib/python3.7/dist-packages (from spacy>=2.2.2->es_core_news_sm==2.2.5) (1.0.6)\n",
            "Requirement already satisfied: catalogue<1.1.0,>=0.0.7 in /usr/local/lib/python3.7/dist-packages (from spacy>=2.2.2->es_core_news_sm==2.2.5) (1.0.0)\n",
            "Requirement already satisfied: tqdm<5.0.0,>=4.38.0 in /usr/local/lib/python3.7/dist-packages (from spacy>=2.2.2->es_core_news_sm==2.2.5) (4.63.0)\n",
            "Requirement already satisfied: setuptools in /usr/local/lib/python3.7/dist-packages (from spacy>=2.2.2->es_core_news_sm==2.2.5) (57.4.0)\n",
            "Requirement already satisfied: thinc==7.4.0 in /usr/local/lib/python3.7/dist-packages (from spacy>=2.2.2->es_core_news_sm==2.2.5) (7.4.0)\n",
            "Requirement already satisfied: requests<3.0.0,>=2.13.0 in /usr/local/lib/python3.7/dist-packages (from spacy>=2.2.2->es_core_news_sm==2.2.5) (2.23.0)\n",
            "Requirement already satisfied: blis<0.5.0,>=0.4.0 in /usr/local/lib/python3.7/dist-packages (from spacy>=2.2.2->es_core_news_sm==2.2.5) (0.4.1)\n",
            "Requirement already satisfied: numpy>=1.15.0 in /usr/local/lib/python3.7/dist-packages (from spacy>=2.2.2->es_core_news_sm==2.2.5) (1.21.5)\n",
            "Requirement already satisfied: importlib-metadata>=0.20 in /usr/local/lib/python3.7/dist-packages (from catalogue<1.1.0,>=0.0.7->spacy>=2.2.2->es_core_news_sm==2.2.5) (4.11.3)\n",
            "Requirement already satisfied: typing-extensions>=3.6.4 in /usr/local/lib/python3.7/dist-packages (from importlib-metadata>=0.20->catalogue<1.1.0,>=0.0.7->spacy>=2.2.2->es_core_news_sm==2.2.5) (3.10.0.2)\n",
            "Requirement already satisfied: zipp>=0.5 in /usr/local/lib/python3.7/dist-packages (from importlib-metadata>=0.20->catalogue<1.1.0,>=0.0.7->spacy>=2.2.2->es_core_news_sm==2.2.5) (3.7.0)\n",
            "Requirement already satisfied: urllib3!=1.25.0,!=1.25.1,<1.26,>=1.21.1 in /usr/local/lib/python3.7/dist-packages (from requests<3.0.0,>=2.13.0->spacy>=2.2.2->es_core_news_sm==2.2.5) (1.24.3)\n",
            "Requirement already satisfied: certifi>=2017.4.17 in /usr/local/lib/python3.7/dist-packages (from requests<3.0.0,>=2.13.0->spacy>=2.2.2->es_core_news_sm==2.2.5) (2021.10.8)\n",
            "Requirement already satisfied: idna<3,>=2.5 in /usr/local/lib/python3.7/dist-packages (from requests<3.0.0,>=2.13.0->spacy>=2.2.2->es_core_news_sm==2.2.5) (2.10)\n",
            "Requirement already satisfied: chardet<4,>=3.0.2 in /usr/local/lib/python3.7/dist-packages (from requests<3.0.0,>=2.13.0->spacy>=2.2.2->es_core_news_sm==2.2.5) (3.0.4)\n",
            "Building wheels for collected packages: es-core-news-sm\n",
            "  Building wheel for es-core-news-sm (setup.py) ... \u001b[?25l\u001b[?25hdone\n",
            "  Created wheel for es-core-news-sm: filename=es_core_news_sm-2.2.5-py3-none-any.whl size=16172933 sha256=cd799f4b995db79aed0203c86288c82b731562b0ce58485a596ad2410e2b768b\n",
            "  Stored in directory: /tmp/pip-ephem-wheel-cache-rwjz_yfk/wheels/21/8d/a9/6c1a2809c55dd22cd9644ae503a52ba6206b04aa57ba83a3d8\n",
            "Successfully built es-core-news-sm\n",
            "Installing collected packages: es-core-news-sm\n",
            "Successfully installed es-core-news-sm-2.2.5\n",
            "\u001b[38;5;2m✔ Download and installation successful\u001b[0m\n",
            "You can now load the model via spacy.load('es_core_news_sm')\n",
            "/usr/lib/python3.7/runpy.py:125: RuntimeWarning: 'nltk.downloader' found in sys.modules after import of package 'nltk', but prior to execution of 'nltk.downloader'; this may result in unpredictable behaviour\n",
            "  warn(RuntimeWarning(msg))\n",
            "[nltk_data] Downloading package stopwords to /root/nltk_data...\n",
            "[nltk_data]   Unzipping corpora/stopwords.zip.\n"
          ]
        }
      ],
      "source": [
        "!python -m spacy download es_core_news_sm   \n",
        "!python -m nltk.downloader stopwords\n",
        "#!pip install wordcloud\n",
        "#!pip install pyLDAvis==2.1.2\n",
        "#!pip install gensim\n",
        "#!pip install --upgrade gensim"
      ]
    },
    {
      "cell_type": "markdown",
      "source": [
        "# *Limpieza de datos *"
      ],
      "metadata": {
        "id": "a1JJe0H-txDX"
      }
    },
    {
      "cell_type": "code",
      "source": [
        "import re\n",
        "import os\n",
        "from google.colab import drive \n",
        "drive.mount('/content/drive')\n",
        "# varibles\n",
        "ruta='/content/drive/MyDrive/Colab Notebooks/discursos/'\n",
        "\n",
        "discursos = []\n",
        "dis_limpios = []\n",
        "#fin de variables\n",
        "files = os.listdir(ruta) #obtenemos la lista de archivos\n",
        "list_files = [f for f in files if f[-4:] == '.txt']  # recorre la lista de \n",
        "                                                    #archivos y pregunta si sus ultimas lineas son\n",
        "#------manejo de archivos modo lectura y escritura ------------------------- \n",
        "for fil in list_files: #recorre la lista\n",
        "    with open(ruta+fil, 'r',encoding='utf-8') as f: #abrimos los archivos\n",
        "        data = f.read()   #lectura de los archivos cargados\n",
        "        discursos.append(data) #agregamos elementos a la lista \n",
        "\n",
        "#------------------------------------\n",
        "# Hacer el texto en minúsculas, quitar corchetes, líneas vacías, etc.\n",
        "#expresiones regulares\n",
        "def limpiar_texto(mi_texto):\n",
        "    mi_texto = mi_texto.lower() # texto en minúscula \n",
        "    mi_texto = re.sub(r\"[^a-zA-Z0-9áéíóúñ]\",\" \",mi_texto) # abreviacion de código\n",
        "    return mi_texto\n",
        "#fin de función--------------------------------------------\n",
        "print(discursos[0])\n",
        "for dato in discursos:\n",
        " dis_limpios.append(limpiar_texto(dato));\n",
        "for dato in dis_limpios:\n",
        "  print(dato)\n",
        "for index, i in enumerate(list_files):\n",
        "  print(f'Discurso # {index}',i)\n",
        "def guardar(nombre, datos):\n",
        "  nuevo_archivo = nombre.split('.')[0]+ '_limpio'\n",
        "  f= open(ruta+nuevo_archivo,\"w+\") \n",
        "  f.write(datos+\" \")\n",
        "  f.close\n",
        "for index, n in enumerate(list_files):\n",
        "   guardar(n,limpiar_texto(discursos[index]))"
      ],
      "metadata": {
        "colab": {
          "base_uri": "https://localhost:8080/"
        },
        "id": "iX6wspCWt4OA",
        "outputId": "8197f124-9931-48e0-fd48-7bf989967a94"
      },
      "execution_count": null,
      "outputs": [
        {
          "output_type": "stream",
          "name": "stdout",
          "text": [
            "Mounted at /content/drive\n",
            "APRECIADOS JEFES DE ESTADO Y DE GOBIERNO,\n",
            "REPRESENTANTES DE ORGANISMOS INTERNACIONALES Y DE LA SOCIEDAD\n",
            "CIVIL,\n",
            "ES MUY VALIOSA LA ARTICULACIÓN ENTRE LAS NACIONES, PARA\n",
            "PROMOVER LA TRANSFORMACIÓN AGROALIMENTARIA Y HALLAR\n",
            "SOLUCIONES PARA LA SOSTENIBILIDAD, QUE TANTO ANHELAMOS.\n",
            "IGUAL QUE EN LA MAYORÍA DE PAÍSES DEL MUNDO, EL TRABAJO DE LOS\n",
            "AGRICULTORES ES ESENCIAL PARA LA ECONOMÍA DE NUESTRO PAÍS.\n",
            "PERO TAMBIÉN PARA LA BUENA ALIMENTACIÓN Y NUTRICIÓN DE\n",
            "MILLONES DE FAMILIAS.\n",
            "EL SECTOR AGRÍCOLA CONTRIBUYE CON EL 8% AL PRODUCTO INTERNO\n",
            "BRUTO DEL ECUADOR (ALREDEDOR DE 8 MIL MILLONES DE DÓLARES). PERO\n",
            "TAMBIÉN SIGNIFICA EL 29% DE LA GENERACIÓN DE EMPLEO ENTRE LA\n",
            "POBLACIÓN.\n",
            "LAMENTABLEMENTE, PESE A ESAS IMPORTANTES CIFRAS, NUESTROS\n",
            "CAMPESINOS AÚN ENFRENTAN GRANDES DESIGUALDADES PARA SUBSISTIR\n",
            "Y PRODUCIR.\n",
            "POR ESO, APENAS ESTE GOBIERNO EMPEZÓ SU GESTIÓN, INICIAMOS UN\n",
            "PROCESO DE FORTALECIMIENTO DEL TRABAJO CAMPESINO Y DE AYUDA A\n",
            "MILES DE PRODUCTORES ECUATORIANOS.\n",
            "\n",
            "PRONTO EMPEZAREMOS A DAR CRÉDITOS AL 1% DE INTERESES Y HASTA 30\n",
            "AÑOS PLAZOS, PARA QUE TODOS PUEDAN TRABAJAR CON TRANQUILIDAD.\n",
            "EN FORMA PARALELA, EL MINISTERIO DE AGRICULTURA, GANADERÍA Y\n",
            "PESCA DEL ECUADOR, ESTÁ TRABAJANDO EN EL DISEÑO DE SISTEMAS DE\n",
            "RIEGO, Y EN UNA RESTRUCTURACIÓN COMPLETA DE LA ATENCIÓN AL\n",
            "CAMPO.\n",
            "EN EL MARCO DE ESTA CUMBRE ALIMENTARIA, QUIERO MANIFESTAR QUE\n",
            "MI GOBIERNO ESTÁ TRABAJANDO SIN PAUSA, EN LA REDUCCIÓN DE LA\n",
            "DESNUTRICIÓN CRÓNICA INFANTIL, QUE AFECTA A 1 DE CADA 4 NIÑOS\n",
            "MENORES DE 5 AÑOS.\n",
            "PRIORIZAMOS EL ACCESO A LOS ALIMENTOS, CON RESPONSABILIDAD DE\n",
            "TODOS LOS ACTORES DE LA CADENA AGROALIMENTARIA.\n",
            "PARA FINALIZAR, ES IMPORTANTE RECORDAR QUE –EL PRÓXIMO AÑO– EL\n",
            "ECUADOR SERÁ ANFITRIÓN DE LA CONFERENCIA REGIONAL DE LA ONU\n",
            "PARA LA ALIMENTACIÓN Y LA AGRICULTURA.\n",
            "TENGO LA FIRME CONVICCIÓN DE QUE LOS 33 PAÍSES DE LA REGIÓN,\n",
            "TRABAJAREMOS EN EL PROPÓSITO DE CREAR MECANISMOS QUE\n",
            "POTENCIEN LAS CAPACIDADES DE AMÉRICA LATINA Y EL CARIBE, PARA\n",
            "FOMENTAR SISTEMAS ALIMENTARIOS MÁS EFICIENTES, INCLUSIVOS Y\n",
            "SOSTENIBLES.\n",
            "ME DESPIDO DE USTEDES CON UN MUY FUERTE ABRAZO.\n",
            "QUE DIOS BENDIGA LA HUMANIDAD\n",
            "MUCHAS GRACIAS.\n",
            "apreciados jefes de estado y de gobierno  representantes de organismos internacionales y de la sociedad civil  es muy valiosa la articulación entre las naciones  para promover la transformación agroalimentaria y hallar soluciones para la sostenibilidad  que tanto anhelamos  igual que en la mayoría de países del mundo  el trabajo de los agricultores es esencial para la economía de nuestro país  pero también para la buena alimentación y nutrición de millones de familias  el sector agrícola contribuye con el 8  al producto interno bruto del ecuador  alrededor de 8 mil millones de dólares   pero también significa el 29  de la generación de empleo entre la población  lamentablemente  pese a esas importantes cifras  nuestros campesinos aún enfrentan grandes desigualdades para subsistir y producir  por eso  apenas este gobierno empezó su gestión  iniciamos un proceso de fortalecimiento del trabajo campesino y de ayuda a miles de productores ecuatorianos   pronto empezaremos a dar créditos al 1  de intereses y hasta 30 años plazos  para que todos puedan trabajar con tranquilidad  en forma paralela  el ministerio de agricultura  ganadería y pesca del ecuador  está trabajando en el diseño de sistemas de riego  y en una restructuración completa de la atención al campo  en el marco de esta cumbre alimentaria  quiero manifestar que mi gobierno está trabajando sin pausa  en la reducción de la desnutrición crónica infantil  que afecta a 1 de cada 4 niños menores de 5 años  priorizamos el acceso a los alimentos  con responsabilidad de todos los actores de la cadena agroalimentaria  para finalizar  es importante recordar que  el próximo año  el ecuador será anfitrión de la conferencia regional de la onu para la alimentación y la agricultura  tengo la firme convicción de que los 33 países de la región  trabajaremos en el propósito de crear mecanismos que potencien las capacidades de américa latina y el caribe  para fomentar sistemas alimentarios más eficientes  inclusivos y sostenibles  me despido de ustedes con un muy fuerte abrazo  que dios bendiga la humanidad muchas gracias \n",
            "muy buenas tardes señora ministra de gobierno  alexandra vela   señor prefecto de la provincia de cotopaxi  jorge guamán   señor alcalde de latacunga  byron cárdenas   señor alcalde de saquisilí  javier velásquez   señores ministros y secretarios de estado  señores oficiales de las fuerzas armadas y de la policía nacional  señor gobernador de la provincia de cotopaxi  oswaldo coronel   señores miembros de los medios de comunicación  compatriotas   en estos momentos difíciles nos hemos hecho presentes aquí  en la ciudad de latacunga  para dar un mensaje de seguridad a nuestra ciudadanía  desde aquí  queremos enviar un mensaje de solidaridad para la valiente oficial de policía que fue víctima de cobardes agresiones sexuales  ella tiene todo el respaldo para que la justicia castigue a su agresor  con todo el peso de la ley  quiero decirles que ya estamos actuando junto a la fiscalía  también queremos enviar nuestras condolencias a lasfamilias de las víctimas fallecidas en estos incidentes  asimismo  queremos expresar nuestro total respaldo a nuestras fuerzas del orden  el gobierno del encuentro ha restablecido el pleno control de los dos centros de privación de libertad  tanto en latacunga  en la provincia de cotopaxi  como en guayaquil   donde la noche anterior se produjeron sendos amotinamientos e incidentes entre bandas delincuenciales  la contundente intervención de la policía nacional  con el firme respaldo de las fuerzas armadas  puso fin definitivo a los incidentes  dicho esto  quiero decir lo siguiente a las mafias que pretenden amedrentar a este país  quiero decirles que se equivocan si creen que este gobierno va actuar con la misma tibieza que los anteriores  se equivocan si creen que nos va a temblar la mano   les quiero decir que todos ustedes serán derrotados  vamos a usar todo el poder de la ley para imponer el estado de derecho y garantizar la paz y los derechos humanos en los centros carcelarios del ecuador  para esto el gobierno nacional ha tomado acciones inmediatas  la primera  se declara el estado de emergencia en el sistema carcelario  a fin de movilizar los recursos humanos y económicos necesarios para reestablecer el orden  en segundo lugar se ha establecido el control militar en el perímetro de acceso a los centros carcelarios  en el filtro 1  y el control policial en los filtros 2 y 3  y prácticamente total en los centros carcelarios   en tercer lugar   se ha cesado al general edmundo moncayo como director del snai  servicio nacional de atención integral a personas adultas privadas de la libertad y a adolescentes infractores   en cuarto lugar  he suscrito electrónicamente un decreto ejecutivo  a través del cualse nombra al coronel en servicio pasivo fausto cobo montalvo  como el nuevo director del servicio nacional de atención integral a personas privadas de libertad  reitero una vez más   las mafias serán derrotadas   la paz  la fuerza de la ley y el estado de derecho imperará por fin en el ecuador   saludo una vez más a los héroes en uniforme de nuestro país  gracias por su trabajo decidido  valiente  en favor de la paz  la seguridad  la tranquilidad y los derechos humanos  que dios bendiga al ecuador  muchas gracias a todos ustedes \n",
            "señora maría brown pérez  ministra de educación  señor doctor fabián pozo  secretario general jurídico de la presidencia de la república  señora ruth garcía  rectora de la unidad educativa tumbaco  estimados profesores y profesoras presentes  queridos padres de familia  queridos estudiantes  representantes de los medios de comunicación  unos cuantos días atrás  aquí en nuestra capital  quito  iniciamos el camino al ecuador del encuentro  aquel día  en la ceremonia de posesión  manifesté que estábamos en la transmisión de mando de todoslos ciudadanos  no solo del presidente de la república  por eso hoy hemos venido a tumbaco  a esta maravillosa unidad educativa rural  alejada del movimiento de las grandes ciudades   quienes tenemos el privilegio de servirlos  debemos acudir al encuentro de nuestros conciudadanos  aquí  donde másse sufren los problemas del momento  el encuentro se construye con ustedes los maestros  con los directivos  con los trabajadores de este establecimiento  a quienes quiero felicitar  estas instalaciones nos pueden parecer pequeñas  pero el tamaño de su esfuerzo es gigante  señora directora  todo lo que hacen por los niños y las niñas de la comunidad es digno de admirar  el ecuador del mañana cosechará los frutos de las mentes que aquí ustedes cultivan  queridos maestros  para cambiar la educación debemos reconocer que ésta no consiste solamente en memorizar unos cuantos datos  hasta que a uno le den un título  en nuestro gobierno la educación está llamada a ser mucho más  la educación debe ser la base de nuestro país  el lugar del encuentro por excelencia  las aulas representan  después del hogar de la familia  de la familia íntima  el primer momento de la vida donde socializamos  aquí aprendemos que hay algo más grande que nosotros mismos  algo a lo que estamos llamados a contribuir  un país  una nación  y no me refiero solamente a una bandera o a unos símbolos  me refiero a los maestros que nos inculcan valores  a los compañeros que uno empieza a querer y comprender  es en el aula donde aprendemos a amar a la  comunidad  un amor que con el tiempo se convierte en voluntad de los ciudadanos para retribuir  sin embargo  la realidad educativa del ecuador no corresponde a un país de inclusión  al contrario  describe a uno de abandono  son miles de niños que no cuentan con escolaridad básica  que no terminan el bachillerato  jóvenes que acaban los colegios para luego no hallar cómo seguir con sus estudios universitarios  cada año  decenas de miles de ellos se van acumulando en la desesperanza  en el desempleo  en familias rotas y  finalmente  en un país que no ve salida  si no somos capaces de darles hoy educación   cómo podemos esperar que luego ellos se animen a construir un mejor país  pues bien  hoy nos encontramos aquí  en las aulas  para cambiar esa realidad  y eso empieza con el decreto que hoy he tenido el orgullo de firmar ante ustedes  y que está resumido en 5 ejes y 20 acciones  en primer lugar  debemos reconocer que cada día que un niño no va a la escuela  que un joven no va al colegio  es un día perdido para este país  no podemos seguir permitiendo que crezcan con vacíos  deben reencontrarse entre ellos  con sus maestros  pero sobre todo con el conocimiento y la creatividad  dentro del primer eje  encontrémonos  se encarga el ministerio de educación del diseño de un plan para el retorno paulatino  voluntario y progresivo a las aulas de los colegios en cada parroquia del país  esto  deberá ser ejecutado a la brevedad posible  señora ministra  los niños volverán a estudiar  por lo que se abrirá un punto de encuentro en cada parroquia del ecuador  el segundo eje se llama todos  para aquellas familias que hoy sufren la falta de escuelas cercanas y afines a sus necesidades  este decreto significa un reencuentro con la educación intercultural  vamos a reabrir 900 escuelas rurales  que fueron injustificadamente suprimidas entre el 2013 y 2016  será una celebración de la diversidad en el sistema educativo nacional  así como de la educación intercultural biling e  el tercer eje  libres y flexibles  significa un ecuador que se construye desde la perspectiva de todos  y esto demanda respeto a la autonomía educativa  queremos padres que exijan de las escuelas la propuesta que mejor sintonice con los valores que quieren para sus hijos  y asimismo  queremos escuelas con la flexibilidad para ofrecer los contenidos que mejor aceptación tendrán en sus comunidades  y con los que podrán contribuir mucho más a la sociedad  además  se trabajará con 28 editoriales que producen recursos pedagógicos como textos  para que sean más autónomas y corresponsables sobre los contenidos y la calidad de los más de 174 textos escolares   esto es encuentro  esto es fomentar la participación  la innovación y la excelencia  el cuarto eje se llama fuertes  dirigido especialmente a nuestros maestros  porque el estado no puede olvidarse de quienes forman a nuestros niños  su tarea es tan importante como la de cualquier otro profesional  sin embargo  muchos están pagados muy por debajo de lo que merecen  o no han recibido la capacitación que requieren para mantenerse actualizados  por ello  este decreto ordena  la dignificación de la carrera de los profesionales de consejería estudiantil  docentes y directivos  a través de la formación profesional continua  la actualización del escalafón docente  y la implementación de incentivos laborales complementarios al salario  debemos seguir formándolos  para que ellos puedan formar a sus alumnos  y  por último  el quinto es el eje excelencia educativa  necesitamos un sistema en donde los estudiantes se encuentren con la tecnología del futuro  no habrá ecuador del encuentro mientraslas mentes de los niños no reciban las herramientas para absorber los conocimientos más avanzados del planeta  el internet  las computadoras  las tablets  los teléfonos inteligentes  deben estar presentes en cada escuela  para propiciar un encuentro de los niños con los nuevos lenguajes y códigos que dominarán el mundo del mañana   este decreto no pretende ni puede abarcarlo todo  la educación es una tarea infinita que exige enfrentar nuevos desafíos cada día  desafíos que debemos enfrentar juntos  porque solo juntos podemos rehabilitar las escuelas rurales  impulsar la educación intercultural  revalorizar el papel de los docentes y mucho más  nuestra visión para el sistema educativo incluye al campo y a las zonas rurales  no vamos a dejar a nadie atrás  este es un llamado a involucrarnos  a ser parte de este gran encuentro por la educación y lograr  desde nuestros espacios  ese verdadero cambio por el que hemos venido trabajando durante años  cambio que busca  modernidad  inclusión  oportunidades y prosperidad para los niños  niñas  jóvenes y maestros en ecuador   cambio que hoy empezamos a hacer realidad  la educación  definitivamente  es un recurso que nunca se agota  porque siempre nos impulsa hacia nuevas ideas  descubrimientos y avances  es un motor de desarrollo al que nunca se le acaba la energía  mi vida es testimonio de esto  a pesar de no tener la oportunidad de haber terminado la universidad  en el camino asumí la importancia de la educación y de nunca dar por terminada la tarea de formarme a mí mismo  sin importar en qué etapa de mi vida me encuentre  por eso me apasiona tanto que los niños aprendan  que los jóvenes se eduquen  porque sé que el conocimiento es emancipación  es independencia  es autonomía  es dignidad  es autoestima  porque sé de  primera mano  que esta es la vía más segura para que salgamos de la pobreza como país  es la vía que nos llevará a todos a un nuevo ecuador  de inclusión y de encuentro  y esa vía debemos recorrerla juntos  trabajando siempre por el bienestar de la gente   el compromiso es de todos  porque solo juntos lo lograremos   hoy  con ese decreto  iniciamos el camino de la transformación educativa en el ecuador  muchas gracias a todos ustedes\n",
            "señora guadalupe llori  presidenta de la asamblea nacional del ecuador  señor alejandro ribadeneira  secretario de educación superior  ciencia  tecnología e innovación  señoras y señores asambleístas  ministros  secretarios de estado y autoridades del gobierno nacional  señores de los medios de comunicación  la presidenta de la asamblea nacional  tan pronto he firmado el decreto que permite la reactivación del proyecto de la universidad  amawtay wasi  me dijo    esto es histórico    y ciertamente que es histórico  para el gobierno del encuentro todos  todos los ecuatorianos somos importantes  y por supuesto que el sector indígena  que representa aproximadamente el 8  de la población  merece la atención del gobierno del encuentro  amawtay wasi significa la  casa del saber   y es una universidad dedicada y orientada a la educación intercultural  la universidad cuenta con su plan de desarrollo estratégico institucional  con un modelo pedagógico  cuenta con el estatuto  el reglamento interno de régimen académico y el reglamento de elección  las carreras que oferta  por ahora  son  lengua y cultura  gestión de desarrollo infantil  familiar  comunitario  y derecho con enfoque de pluralismo jurídico  la universidad inició sus actividades académicas correspondientes al primer ciclo de carrera de lengua y cultura  en mayo del 2021  hace pocos días se presentó el proyecto de reforma a la ley orgánica de educación superior  el martes tuve la oportunidad de visitar la asamblea nacional y  de manera pública  presentar este proyecto que es fundamental para todos los jóvenes ecuatorianos  señora presidenta    necesitamos universidades libres y jóvenes libres  universidades libres de ofrecer las carreras universitarias  acorde con el desarrollo del país y las nuevas tecnologías  universidades libres para decidir las extensiones universitarias que ellas consideran adecuadas  y universidades libres para establecer los distintos sistemas de educación presencial y a distancia  pero lo más importante de todo   necesitamos jóvenes libres  señora presidenta de la asamblea nacional  en los últimos doce años de actividad política  me he dedicado a recorrer el ecuador  y en conversación con los jóvenes ecuatorianos  siempre aparece su preocupación de que no existen cupos suficientes para poder estudiar en la universidad  cerca de 200 mil bachilleres se gradúan al año y hay apenas 90 mil cupos en las universidades   110 mil jóvenes por año  ven postergado su objetivo  su sueño de poder estudiar en la universidad  y si a esto sumamos que la economía ecuatoriana  en lugar de crear empleos  en los últimos años los ha destruido  tenemos una generación de jóvenes que no estudian  no trabajan  y caminan desesperanzados con preocupación y ansiedad  y muchas veces  algunos de ellos  penosamente  terminan captados por el crimen transnacional  y  por lo tanto  sus vidas son desperdiciadas    tenemos que trabajar con urgencia  señora presidenta de la asamblea nacional  así como yo he entendido la urgencia de poner a funcionar a la universidad  a la  casa del saber   quisiera pedirle su apoyo  su colaboración y de todos los asambleístas  como lo hice el día martes  para que esta reforma a la ley de educación superior sea tramitada en el menor tiempo posible  no como un homenaje ni como una reciprocidad a este gobierno  sino como un homenaje a todos los jóvenes ecuatorianos que  en este momento  a esta hora del día  esperan que nosotros llevemos a cabo como autoridades  acciones encaminadas a crear futuro y a crear esperanza para toda la juventud del ecuador  muchas gracias por su presencia en este acto  y un abrazo para usted  me alegro de que esté muy contenta  muy alegre y  bueno  no voy a decir lo que me dijo en voz baja  porque  bueno  vamos a escandalizar a todo el pueblo ecuatoriano  pero dice que está tan emocionada  que quiere darme un abrazo y hasta un beso  así que  señora presidenta  aquí estoy  listo para ese abrazo y ese beso suyo \n",
            "muy buenos días a todos  un gusto verlos  he cumplido con el procedimiento de la segunda dosis de vacuna  así que ya estoy inmunizado  pero tenemos muy buenas noticias para todos los ecuatorianos  en primer lugar  ayer ya hemos roto nuevamente un récord  casi 170 mil vacunados  hasta la fecha  se ha vacunado en primera y segunda dosis a cerca de cinco millones de ecuatorianos  a partir del 5 de julio comenzamos una segunda etapa  con un plan que tiene previsto vacunar a seis millones de ecuatorianos adicionales  en  primera dosis  hasta finales de julio  y seis millones en segunda dosis  hasta finales de agosto  el sistema es masivo en todo el ecuador  en la costa  en la sierra en la amazonía  en galápagos ya está vacunado más del 95  de la población con las dos dosis  y hemos implementado sistemas transparentes de información actualizada  a través del  vacunómetro  del ministerio de salud pública  los certificados de vacunación se pueden obtener de manera digital  poniendo tu nombre  tu número de cédula    y tienes tu certificado  a la fecha  tenemos cerca de cuatro millones y medio de vacunas  sin contar con las que llegarán hasta finales de mes  así que  el proceso avanza  gracias a dios  hemos logrado conseguir las vacunas requeridas  lo que le pido al pueblo ecuatoriano es que ponga su hombro  porque es la manera de reactivar la economía  de recuperar la normalidad  de vivir en familia  en paz  con tranquilidad  eso sí  a pesar de las dos dosis  mantengamos la prudencia  usando mascarilla  utilizando alcohol y teniendo mucho cuidado de no excedernos en reuniones  con el número de personas que vayan más allá del establecido por las normas de bioseguridad   quiero destacar el trabajo del ministerio de salud  liderado por la doctora jimena garzón  e integrado también por el viceministro  el doctor josé ruales  el apoyo también de las fuerzas armadas ha sido fundamental  representado por el teniente coronel  gonzalo  pullas  quien es decano de la facultad de medicina de la espe  el apoyo del consejo nacional electoral del ecuador  representado de manera especial por el ingeniero enrique pita  el apoyo de los medios de comunicación  de todos ustedes que están difundiendo información diariamente y haciendo un llamado a la vacunación  también hay que reconocer el esfuerzo de la población ecuatoriana  los resultados que estamos logrando no son mérito exclusivo del gobierno  sino de todos los ciudadanos  especialmente  quiero destacar el esfuerzo y el sacrificio del personal médico del ministerio de salud pública  que trabaja de manera denodada  con mucha dedicación  con mucho sacrificio  haciendo una loable tarea para precautelar la salud de todos los ecuatorianos  les agradezco mucho por acompañarme en este momento de vacunación  así como lo he hecho yo  espero que lo hagan todos ustedes en los próximos días  sobre todo cuando a partir del próximo  lunes se empezarán a vacunar desde los 16 años de edad  por lo tanto  habrá ya una apertura completa para todos los segmentos de edades del grupo objetivo  que es el grupo prioritario  posteriormente  anunciaremos nuevas metas del plan de vacunación  que permitan comenzar a reactivar la economía  a generar empleo y nuevamente oportunidades para todos los ecuatorianos   muchas gracias a todos ustedes  queridos amigos  gracias  \n",
            "Discurso # 0 Cumbre sobre sistemas alimentarios.txt\n",
            "Discurso # 1 Medidas de seguridad en los centros penitenciarios.txt\n",
            "Discurso # 2 decreto para mejoras en el sistema educativo.txt\n",
            "Discurso # 3 Reformatoria a la ley de creacion Uni Amawtay Wasi.txt\n",
            "Discurso # 4 Avances en el proceso de vacunación segunda dosis al presidente.txt\n"
          ]
        }
      ]
    },
    {
      "cell_type": "markdown",
      "source": [
        "\n",
        "# **Lemantización y remoción de stop words, corpus, diccionario**\n"
      ],
      "metadata": {
        "id": "wfPXdzg_t9G-"
      }
    },
    {
      "cell_type": "code",
      "source": [
        "import os\n",
        "import pkg_resources,imp\n",
        "imp.reload(pkg_resources)\n",
        "#spacy\n",
        "import nltk\n",
        "from nltk.corpus import stopwords\n",
        "\n",
        "spanish_stopwords = stopwords.words('spanish')\n",
        "import spacy\n",
        "\n",
        "# gensim lda\n",
        "import gensim\n",
        "from gensim.corpora.dictionary import Dictionary\n",
        "from gensim.test.utils import common_texts\n",
        "from gensim.utils import simple_preprocess\n",
        "from gensim.models import CoherenceModel\n",
        "from gensim.models import LdaModel\n",
        "from gensim.models.phrases import Phrases\n",
        "\n",
        "\n",
        "\n",
        "from sklearn.feature_extraction.text import CountVectorizer\n",
        "\n",
        "\n",
        "\n",
        "import numpy as np\n",
        "import pandas as pd\n",
        "\n",
        "import warnings\n",
        "warnings.filterwarnings(\"ignore\", category=DeprecationWarning)\n",
        "\n",
        "\n",
        "from google.colab import drive\n",
        "\n",
        "\n",
        "\n",
        "# CARGAR ARCHIVOS \n",
        "ruta='/content/drive/MyDrive/Colab Notebooks/discursos/'\n",
        "\n",
        "#lista vacía para cargar los textos\n",
        "corpus = []\n",
        "files = os.listdir(ruta) #obtenemos la lista de archivos\n",
        "list_files = [f for f in files if f[-7:] == '_limpio']  # recorre la lista de \n",
        "print(\" listas archivos:\",list_files)          #archivos y pregunta si sus ultimas lineas son\n",
        "\n",
        "#buscar en la carpeta \n",
        "\n",
        "for fil in list_files: #recorre la lista\n",
        " with open(ruta+fil, 'r',encoding='utf-8') as f:\n",
        "    mi_texto = f.read()\n",
        "    corpus.append(mi_texto)\n",
        "\n",
        "#FIN DE CARGAR ARCHIVOS \n",
        "\n",
        "print('\\n')\n",
        "\n",
        "\n",
        "\n",
        "\n",
        "\n",
        "#-------------\n",
        "\n",
        "\n",
        "\n",
        "\n",
        "\n",
        "print('---------------------------lematización------------------------------------')\n",
        "\n",
        "#forma 1 \n",
        " #proceso mediante el cual las palabras de un texto que pertenecen a un mismo \n",
        " #paradigma flexivo o derivativo son llevadas a una forma normal que representa a toda la clase.\n",
        "\n",
        "def lemma_activa(texts, allowed_postags=[\"NOUN\",\"ADJ\", \"VERB\", \"ADV\"]): # validación o permitidos\n",
        "    nlp = spacy.load(\"es_core_news_sm\") #Vocabulario, sintaxis, entidades, vectores\n",
        "    texts_out = [] #declara arreglo para el texto de salida\n",
        "    for text in texts: # se recorre la lista\n",
        "        doc = nlp(text) #lemmantization\n",
        "        new_text = [] # se declara arreglo para almacenar los datos \n",
        "        for token in doc:\n",
        "            if token.pos_ in allowed_postags: # si los token encontrados perteneces a los permitidos \n",
        "                new_text.append(token.lemma_)\n",
        "        final = \" \".join(new_text)\n",
        "        texts_out.append(final)\n",
        "    return texts_out\n",
        "\n",
        "\n",
        "lemmatized_texts = lemma_activa(corpus) \n",
        "for index, i in enumerate(lemmatized_texts):\n",
        "  print(f'Discurso # {index}',i)\n",
        "\n",
        "\n",
        "\n",
        "\n",
        "\n",
        "\n",
        "\n",
        "\n",
        "print('\\n')\n",
        "print('-----------------------Tokens----------------------------------------')\n",
        "#Convierte un documento en una lista de tokens. esto es \n",
        "#Esto pone en minúsculas, tokeniza, quita acentos (opcional), inidica el mini y max tamaño de las palabras \n",
        "# la salida son tokens finales = cadenas Unicode, que no se procesarán más.\n",
        "#deacc= elimina acentos\n",
        "\n",
        "def Tokens(texts,n):\n",
        "    final = []\n",
        "    for text in texts:\n",
        "        new = gensim.utils.simple_preprocess(text, deacc=False,min_len=n)\n",
        "        final.append(new)\n",
        "    return final\n",
        "data_words = Tokens(lemmatized_texts,2)\n",
        "for index, i in enumerate(data_words):\n",
        "  print(f'Discurso # {index}',i)\n",
        "\n",
        "\n",
        "\n",
        "\n",
        "\n",
        "print('\\n')\n",
        "print('---------------------------Bigram------------------------------------')\n",
        "\n",
        "# Calcular n-gramas de grandes conjuntos de datos puede ser muy computacional\n",
        "# y memoria intensiva.\n",
        "\n",
        "\n",
        "Bphrases=[]\n",
        "vectorizer = CountVectorizer(max_df=0.9,stop_words =stopwords.words('spanish'), ngram_range=(1,2))\n",
        "X = vectorizer.fit_transform(lemmatized_texts)\n",
        "\n",
        "\n",
        "\n",
        "\n",
        "for x in vectorizer.get_feature_names_out():\n",
        "  Bphrases.append(x)\n",
        "\n",
        "\n",
        "datos_unidos_ngram=[]\n",
        "\n",
        "for index, i in enumerate(Bphrases):\n",
        "   mi = re.sub(r\"\\s+\",\"_\",Bphrases[index])\n",
        "   if len(mi) >9:\n",
        "      datos_unidos_ngram.append(mi)\n",
        "\n",
        "\n",
        "   \n",
        "\n",
        "print(datos_unidos_ngram[0:15])\n",
        "\n",
        "\n",
        "\n",
        "# Agregue bigramas y trigramas a los documentos (solo los que aparecen 20 veces o más).\n",
        "\n",
        "bigram = Phrases(datos_unidos_ngram[0:1400]+data_words, min_count=2)\n",
        "\n",
        "for idx in range(len(data_words)):\n",
        "    for token in bigram[data_words[idx]]:\n",
        "        if '_' in token:\n",
        "            # Token is a bigram, add to document.\n",
        "            data_words[idx].append(token)\n",
        "\n",
        "\n",
        "\n",
        "\n",
        "\n",
        "\n",
        "\n",
        "\n",
        "\n",
        "\n",
        "\n",
        "\n",
        "\n",
        "#for x in vectorizer.get_feature_names_out():\n",
        " # print(x)\n",
        "\n",
        "print('\\n')\n",
        "print('---------------------------StopWords---------------------------------')\n",
        "\n",
        "\n",
        "def deletewords(text_tokens):\n",
        "  final =[]\n",
        "  for text in text_tokens:\n",
        "    new = [word for word in text if not word in stopwords.words('spanish')]\n",
        "    final.append(new)\n",
        "  return(final)\n",
        "newdato = deletewords(data_words)\n",
        "\n",
        "\n",
        "for index, i in enumerate(newdato):\n",
        "  print(f'Discurso # {index}',i)\n",
        "print('\\n')\n",
        "\n",
        "\n",
        "\n",
        "\n",
        " # genera archivo csv OPCIONAL--\n",
        "#data_txt = np.array(data_words)\n",
        "#data_txtDF = pd.DataFrame(data_txt)\n",
        "#data_txtDF.to_csv('datas_train.csv',index=False)\n",
        "#-------------------------------------------------------\n",
        "\n",
        "\n",
        "\n",
        "\n",
        "\n",
        "print('--------------------------Diccionario---------------------------------------')\n",
        "\n",
        "#Los diccionarios son objetos que asignan un identificador numérico a \n",
        "#cada palabra única y se pueden usar para obtener el identificador a partir de la palabra y viceversa.\n",
        "\n",
        "def diccionarioT(text):\n",
        "  dic = Dictionary(text) # original\n",
        "  dic.filter_extremes(no_below=2, no_above=0.4) #matendra aque\n",
        "  print(dic)\n",
        "  return  dic\n",
        "  \n",
        "newdato.append(datos_unidos_ngram)\n",
        "dic = diccionarioT(newdato)\n",
        "\n",
        "def corpusD(text):\n",
        "  corpuss = [text.doc2bow(discursos) for discursos in newdato]\n",
        "  print(len(text)) #número de palabras en el diccionario\n",
        "  print('\\n')\n",
        "  id_words = [[(text[id], count) for id, count in line] for line in corpuss]\n",
        "  print(id_words)\n",
        "  return corpuss\n",
        "\n",
        "\n",
        "corpuss= corpusD(dic)\n",
        "\n",
        "\n",
        "\n",
        "\n",
        "\n",
        "\n",
        "\n",
        "\n",
        "\n",
        "#--------------------------------------------------------\n",
        "\n",
        "#print(id_words[0][0:5])\n",
        "\n",
        "#print(id2word[1],1)\n"
      ],
      "metadata": {
        "colab": {
          "base_uri": "https://localhost:8080/"
        },
        "id": "C4MOldDJt9XH",
        "outputId": "d2bfd3f7-277f-4480-c74b-9231a17ac54d"
      },
      "execution_count": null,
      "outputs": [
        {
          "output_type": "stream",
          "name": "stdout",
          "text": [
            " listas archivos: ['Cumbre sobre sistemas alimentarios_limpio', 'decreto para mejoras en el sistema educativo_limpio', 'Medidas de seguridad en los centros penitenciarios_limpio', 'Avances en el proceso de vacunación segunda dosis al presidente_limpio', 'Reformatoria a la ley de creacion Uni Amawtay Wasi_limpio']\n",
            "\n",
            "\n",
            "---------------------------lematización------------------------------------\n",
            "Discurso # 0 apreciar jefe representante organismo internacional sociedad civil muy valioso articulación nación promover transformación agroalimentario hallar solucionar sostenibilidad tanto igual mayoría país mundo trabajar agricultor esencial economía país también bueno alimentación nutrición millón familia sector agrícola contribuir producto internar bruto alrededor millón dólar también significar generación emplear población lamentablemente pesar importante cifrar campesino aun enfrentar grande desigualdad subsistir producir apenar gobernar empezar gestión iniciar procesar fortalecimiento trabajar ayudar productor ecuatoriano pronto dar crédito interesar año plazo trabajar tranquilidad formar paralelo ganadería pescar trabajar diseñar sistema regar restructuración completo atención campar marcar cumbre alimentario querer gobernar trabajar pausar reducción desnutrición crónico infantil afecto niño menor año priorizar acceso alimento responsabilidad actor cadena agroalimentario finalizar importante próximo año anfitrión conferenciar regional alimentación agricultura tener firmar convicción país región trabajar propósito crear mecanismo potenciar capacidad fomentar sistema alimentario más eficiente inclusivo sostenible despedir vosotros muy fuerte abrazar bendecir humanidad gracia\n",
            "Discurso # 1 educación señor secretario general jurídico presidencia señor unidad educativo estimar profesor profesor presente querido padre familia querido estudiante representante medio comunicación día atrás aquí capital iniciar caminar encontrar día ceremonia posesión estar transmisión mandar todoslos ciudadano solo presidente hoy venir tumbaco maravilloso unidad educativo rural alejar movimiento grande ciudad tener privilegiar servirlos acudir encontrar conciudadano aquí másse sufrir problema momento encontrar construir maestro directivo trabajador establecimiento querer felicitar instalación parecer pequeño tamaño esforzar gigante señor director hacer niño niño comunidad dignar admirar mañana cosechar fruto mente aquí cultivar querido maestro cambiar educación reconocer no consistir solamente memorizar dato dar título educación llamar mucho más educación basar país lugar encontrar excelencia aula representar después hogar familia familia íntimo ﻿1 momento vida socializar aquí aprender más grande llamar contribuir país nación no referir solamente bandera símbolo referir maestro inculcar valorar compañero querer comprender aula amar amor tiempo convertir voluntad ciudadano retribuir embargar realidad educativo no corresponder país inclusión contrario describir abandonar niño no contar escolaridad básico no terminar bachillerato joven acabar colegio luego no seguir estudio universitario año decena acumular desesperanzar desempleo familia rotar finalmente país no ver salir no capaz darles hoy educación esperar luego animar construir mejor país bien hoy encontrar aquí aula cambiar realidad empezar decretar hoy tener orgullo firmar resumir eje accionar ﻿1 lugar reconocer día niño no ir escuela joven no ir colegiar día perder país no permitir crecer vacío maestro conocimiento creatividad dentro ﻿1 eje encontrémonos encargar educación diseñar plan retornar paulatino voluntario progresivo aula colegio parroquia país ejecutar brevedad posible señor niño estudiar abrir punto encontrar parroquia segundar eje llamar familia hoy sufrir falto escuela cercano afinar necesidad decretar significar reencontrar educación intercultural reabrir escuela rural injustificadamente suprimir 2013 2016 celebración diversidad sistema educativo nacional asir educación intercultural 3 eje libre flexible significar ecuador construir perspectivo demandar respetar autonomía educativo querer padre exigir escuela proponer mejor valorar querer hijo asimismo querer escuela flexibilidad ofrecer contenido mejor aceptación tener comunidad contribuir mucho más sociedad además trabajar editorial producir recurso pedagógico texto más autónomo corresponsable contenido calidad más texto escolar encontrar fomentar participación innovación excelencia cuartar eje llamar fuerte dirigir especialmente maestro estar no olvidarse formar niño tarea tan importante profesional embargar pagar muy debajo merecer no recibir capacitación requerir mantenerse actualizar decretar ordenar dignificación carrera profesional consejería estudiantil docente directivo través formación profesional continuo actualización docente implementación incentivo laboral complementario salariar seguir formándolos formar alumno último quintar eje excelencia educativo necesitar sistema estudiante encontrar tecnología futuro no ecuador encontrar mientraslas mente niño no recibir herramienta absorber conocimiento más avanzar planeta internet computador teléfono inteligente estar presente escuela propiciar encontrar niño nuevo lenguaje código dominar mundo decretar no pretender abarcarlo educación tarea infinito exigir enfrentar nuevo desafío día desafío enfrentar junto solo junto rehabilitar escuela rural impulsar educación intercultural revalorizar papel docente mucho más visión sistema educativo incluir campar zona rural no dejar atrás llamar involucrarnos partir gran encontrar educación lograr espacio verdadero cambiar trabajar año cambiar buscar modernidad inclusión oportunidad prosperidad niño niño joven maestro cambiar hoy hacer realidad educación definitivamente recurso nunca agotar siempre impulsar nuevo ideo descubrimiento avanzar motor desarrollar nunca acabar energía vida testimoniar pesar no tener oportunidad terminar caminar importancia educación nunca dar terminar tarea formarme importar etapa vida apasionar tanto niño aprender joven educar ser conocimiento emancipación independencia autonomía dignidad autoestima ser primero manir vía más seguro salir pobreza país vía llevar nuevo ecuador inclusión encontrar vía recorrerla junto trabajar siempre bienestar gente compromiso solo junto lograr hoy decretar iniciar caminar transformación educativo gracia\n",
            "Discurso # 2 muy bueno tarde señor señor prefecto provincia señor alcalde byron cárdeno señor alcalde señor ministro secretario señor oficial policía señor gobernador provincia señor miembro medio comunicación compatriota momento difícil hacer presente aquí ciudad dar mensaje seguridad ciudadanía aquí querer enviar mensaje solidaridad valiente oficial policía víctima cobarde agresión sexual tener respaldar justicia castigar agresor pesar ley querer decirles ya actuar juntar fiscalía también querer enviar condolencia lasfamilias víctima fallecido incidente asimismo querer expresar total respaldar fuerza orden encontrar restablecer pleno control centro privación libertar tanto provincia noche anterior producir amotinamiento incidente banda delincuencial contundente intervención policía firmar respaldar poner fin definitivo incidente decir querer siguiente mafia pretender amedrentar país querer decirles equivocar creer gobernar ir actuar tibieza anterior equivocar creer temblar manir querer derrotar usar poder ley imponer estar derecho garantizar paz derecho humano centro carcelario nacional tomar accionar inmediato primero declarar estar emergencia sistema carcelario fin movilizar recurso humano económico necesario reestablecer orden segundar lugar establecer control militar perímetro acceso centro carcelario filtrar control policial filtro prácticamente total centro carcelario 3 lugar cesar general edmundo moncayo director nacional atención integral personar adulto privar libertar adolescente infractor cuartar lugar suscribir electrónicamente decretar ejecutivo través cualse nombrar coronel servicio pasivo nuevo director servicio nacional atención integral personar privar libertar reiterar vez más mafia derrotar paz forzar ley estar derecho imperar fin saludar vez más héroe uniformar país gracia trabajar decidir favor paz seguridad tranquilidad derecho humano gracia\n",
            "Discurso # 3 muy bueno día gustar verlos cumplir procedimiento segundar dosis vacuno asir ya inmunizar tener muy bueno noticiar ecuatoriano ﻿1 lugar ayer ya rotar nuevamente récord casi vacunar fecho vacunar primero segundar dosis cercar millón ecuatoriano partir julio comenzar segundar etapa plan tener prever vacunar millón ecuatoriano adicional primero dosis final julio millón segundar dosis final agostar sistema masivo costa serrar amazonía galápago ya vacunar más población dosis implementar sistema transparente información actualizar través salud público certificar vacunación obtener manera digital poner nombrar número cédula tener certificar fecho tener cercar millón vacuno contar llegar final mes asir procesar avanzar gracia lograr conseguir vacuno requerir pedir poblar ecuatoriano poner hombro manera reactivar economía recuperar normalidad vivir familia paz tranquilidad sí pesar dosis mantener prudencia usar utilizar alcohol tener cuidar no excedernos reunión número personar ir más allá establecer norma bioseguridad querer destacar trabajar liderar doctorar integrar también viceministro doctor apoyar también fundamental representar teniente pulla decano medicinar apoyar representar manera especial pitar apoyar medio comunicación difundir información diariamente hacer llamar vacunación también reconocer esforzar población ecuatoriano resultar lograr no mérito exclusivo ciudadano especialmente querer destacar esforzar sacrificio personal médico salud público trabajar manera denodado dedicación sacrificio hacer loable tarea precautelar salud ecuatoriano agradecer mucho acompañarme momento vacunación asir hacer esperar hacer próximo día partir próximo lunes empezar vacunar año edad tanto ya apertura completo segmento edad grupo objetivar grupo prioritario posteriormente anunciar nuevo meter plan vacunación permitir reactivar economía generar emplear nuevamente oportunidad ecuatoriano gracia querido amigo gracia\n",
            "Discurso # 4 presidente secretario educación superior innovación señor señor asambleísta ministro secretario autoridad nacional señor medio comunicación presidente tan pronto firmar decretar permitir reactivación proyectar decir histórico ciertamente histórico encontrar ecuatoriano importante suponer sector indígena representar aproximadamente población merecer atención encontrar significar casar universidad dedicar orientar educación intercultural contar plan desarrollar estratégico institucional modelar pedagógico contar estatuto reglamentar internar régimen académico reglamentar elección carrera ofertar ahora lengua cultura gestión desarrollar infantil familiar comunitario derecho enfocar pluralismo jurídico universidad iniciar actividad académico correspondiente ﻿1 ciclar carrera lengua cultura mayar día presentar proyectar reformar ley orgánico educación superior martes tener oportunidad visitar manera público presentar proyectar fundamental joven ecuatoriano señor presidente necesitar universidad libre joven libre universidad libre ofrecer carrera universitario desarrollar país nuevo tecnología universidad libre decidir extensión universitario considerar adecuar universidad libre establecer sistema educación presencial distanciar más importante necesitar joven libre señor presidente último año actividad político dedicar recorrer conversación joven ecuatoriano siempre aparecer preocupación no existir cupo suficiente estudiar cercar bachiller graduar año apenar cupo universidad joven año ver postergar objetivar soñar estudiar sumir economía ecuatoriano lugar crear empleo último año destruir tener generación joven no estudiar no trabajar caminar desesperanzar preocupación ansiedad vez penosamente terminar captar crimen transnacional tanto vida desperdiciar tener trabajar urgencia señor presidente asir entender urgencia poner funcionar casar querer pedirle apoyar colaboración asambleísta hacer día martes reformar ley educación superior tramitar menor tiempo posible no homenaje reciprocidad homenaje joven ecuatoriano momento hora día esperar llevar cabo autoridad accionar encaminar crear futuro crear esperanzar juventud gracia presenciar acto abrazar alegrar muy contento muy alegrar bueno no decir decir voz bajo bueno escandalizar poblar ecuatoriano decir tan emocionar querer darme abrazar besar asir señor presidente aquí listar abrazar besar\n",
            "\n",
            "\n",
            "-----------------------Tokens----------------------------------------\n",
            "Discurso # 0 ['apreciar', 'jefe', 'representante', 'organismo', 'internacional', 'sociedad', 'civil', 'muy', 'valioso', 'articulación', 'nación', 'promover', 'transformación', 'agroalimentario', 'hallar', 'solucionar', 'sostenibilidad', 'tanto', 'igual', 'mayoría', 'país', 'mundo', 'trabajar', 'agricultor', 'esencial', 'economía', 'país', 'también', 'bueno', 'alimentación', 'nutrición', 'millón', 'familia', 'sector', 'agrícola', 'contribuir', 'producto', 'internar', 'bruto', 'alrededor', 'millón', 'dólar', 'también', 'significar', 'generación', 'emplear', 'población', 'lamentablemente', 'pesar', 'importante', 'cifrar', 'campesino', 'aun', 'enfrentar', 'grande', 'desigualdad', 'subsistir', 'producir', 'apenar', 'gobernar', 'empezar', 'gestión', 'iniciar', 'procesar', 'fortalecimiento', 'trabajar', 'ayudar', 'productor', 'ecuatoriano', 'pronto', 'dar', 'crédito', 'interesar', 'año', 'plazo', 'trabajar', 'tranquilidad', 'formar', 'paralelo', 'ganadería', 'pescar', 'trabajar', 'diseñar', 'sistema', 'regar', 'restructuración', 'completo', 'atención', 'campar', 'marcar', 'cumbre', 'alimentario', 'querer', 'gobernar', 'trabajar', 'pausar', 'reducción', 'desnutrición', 'crónico', 'infantil', 'afecto', 'niño', 'menor', 'año', 'priorizar', 'acceso', 'alimento', 'responsabilidad', 'actor', 'cadena', 'agroalimentario', 'finalizar', 'importante', 'próximo', 'año', 'anfitrión', 'conferenciar', 'regional', 'alimentación', 'agricultura', 'tener', 'firmar', 'convicción', 'país', 'región', 'trabajar', 'propósito', 'crear', 'mecanismo', 'potenciar', 'capacidad', 'fomentar', 'sistema', 'alimentario', 'más', 'eficiente', 'inclusivo', 'sostenible', 'despedir', 'vosotros', 'muy', 'fuerte', 'abrazar', 'bendecir', 'humanidad', 'gracia']\n",
            "Discurso # 1 ['educación', 'señor', 'secretario', 'general', 'jurídico', 'presidencia', 'señor', 'unidad', 'educativo', 'estimar', 'profesor', 'profesor', 'presente', 'querido', 'padre', 'familia', 'querido', 'estudiante', 'representante', 'medio', 'comunicación', 'día', 'atrás', 'aquí', 'capital', 'iniciar', 'caminar', 'encontrar', 'día', 'ceremonia', 'posesión', 'estar', 'transmisión', 'mandar', 'todoslos', 'ciudadano', 'solo', 'presidente', 'hoy', 'venir', 'tumbaco', 'maravilloso', 'unidad', 'educativo', 'rural', 'alejar', 'movimiento', 'grande', 'ciudad', 'tener', 'privilegiar', 'servirlos', 'acudir', 'encontrar', 'conciudadano', 'aquí', 'másse', 'sufrir', 'problema', 'momento', 'encontrar', 'construir', 'maestro', 'directivo', 'trabajador', 'establecimiento', 'querer', 'felicitar', 'instalación', 'parecer', 'pequeño', 'tamaño', 'esforzar', 'gigante', 'señor', 'director', 'hacer', 'niño', 'niño', 'comunidad', 'dignar', 'admirar', 'mañana', 'cosechar', 'fruto', 'mente', 'aquí', 'cultivar', 'querido', 'maestro', 'cambiar', 'educación', 'reconocer', 'no', 'consistir', 'solamente', 'memorizar', 'dato', 'dar', 'título', 'educación', 'llamar', 'mucho', 'más', 'educación', 'basar', 'país', 'lugar', 'encontrar', 'excelencia', 'aula', 'representar', 'después', 'hogar', 'familia', 'familia', 'íntimo', 'momento', 'vida', 'socializar', 'aquí', 'aprender', 'más', 'grande', 'llamar', 'contribuir', 'país', 'nación', 'no', 'referir', 'solamente', 'bandera', 'símbolo', 'referir', 'maestro', 'inculcar', 'valorar', 'compañero', 'querer', 'comprender', 'aula', 'amar', 'amor', 'tiempo', 'convertir', 'voluntad', 'ciudadano', 'retribuir', 'embargar', 'realidad', 'educativo', 'no', 'corresponder', 'país', 'inclusión', 'contrario', 'describir', 'abandonar', 'niño', 'no', 'contar', 'escolaridad', 'básico', 'no', 'terminar', 'bachillerato', 'joven', 'acabar', 'colegio', 'luego', 'no', 'seguir', 'estudio', 'universitario', 'año', 'decena', 'acumular', 'desesperanzar', 'desempleo', 'familia', 'rotar', 'finalmente', 'país', 'no', 'ver', 'salir', 'no', 'capaz', 'darles', 'hoy', 'educación', 'esperar', 'luego', 'animar', 'construir', 'mejor', 'país', 'bien', 'hoy', 'encontrar', 'aquí', 'aula', 'cambiar', 'realidad', 'empezar', 'decretar', 'hoy', 'tener', 'orgullo', 'firmar', 'resumir', 'eje', 'accionar', 'lugar', 'reconocer', 'día', 'niño', 'no', 'ir', 'escuela', 'joven', 'no', 'ir', 'colegiar', 'día', 'perder', 'país', 'no', 'permitir', 'crecer', 'vacío', 'maestro', 'conocimiento', 'creatividad', 'dentro', 'eje', 'encontrémonos', 'encargar', 'educación', 'diseñar', 'plan', 'retornar', 'paulatino', 'voluntario', 'progresivo', 'aula', 'colegio', 'parroquia', 'país', 'ejecutar', 'brevedad', 'posible', 'señor', 'niño', 'estudiar', 'abrir', 'punto', 'encontrar', 'parroquia', 'segundar', 'eje', 'llamar', 'familia', 'hoy', 'sufrir', 'falto', 'escuela', 'cercano', 'afinar', 'necesidad', 'decretar', 'significar', 'reencontrar', 'educación', 'intercultural', 'reabrir', 'escuela', 'rural', 'suprimir', 'celebración', 'diversidad', 'sistema', 'educativo', 'nacional', 'asir', 'educación', 'intercultural', 'eje', 'libre', 'flexible', 'significar', 'ecuador', 'construir', 'perspectivo', 'demandar', 'respetar', 'autonomía', 'educativo', 'querer', 'padre', 'exigir', 'escuela', 'proponer', 'mejor', 'valorar', 'querer', 'hijo', 'asimismo', 'querer', 'escuela', 'flexibilidad', 'ofrecer', 'contenido', 'mejor', 'aceptación', 'tener', 'comunidad', 'contribuir', 'mucho', 'más', 'sociedad', 'además', 'trabajar', 'editorial', 'producir', 'recurso', 'pedagógico', 'texto', 'más', 'autónomo', 'corresponsable', 'contenido', 'calidad', 'más', 'texto', 'escolar', 'encontrar', 'fomentar', 'participación', 'innovación', 'excelencia', 'cuartar', 'eje', 'llamar', 'fuerte', 'dirigir', 'especialmente', 'maestro', 'estar', 'no', 'olvidarse', 'formar', 'niño', 'tarea', 'tan', 'importante', 'profesional', 'embargar', 'pagar', 'muy', 'debajo', 'merecer', 'no', 'recibir', 'capacitación', 'requerir', 'mantenerse', 'actualizar', 'decretar', 'ordenar', 'dignificación', 'carrera', 'profesional', 'consejería', 'estudiantil', 'docente', 'directivo', 'través', 'formación', 'profesional', 'continuo', 'actualización', 'docente', 'implementación', 'incentivo', 'laboral', 'complementario', 'salariar', 'seguir', 'formándolos', 'formar', 'alumno', 'último', 'quintar', 'eje', 'excelencia', 'educativo', 'necesitar', 'sistema', 'estudiante', 'encontrar', 'tecnología', 'futuro', 'no', 'ecuador', 'encontrar', 'mientraslas', 'mente', 'niño', 'no', 'recibir', 'herramienta', 'absorber', 'conocimiento', 'más', 'avanzar', 'planeta', 'internet', 'computador', 'teléfono', 'inteligente', 'estar', 'presente', 'escuela', 'propiciar', 'encontrar', 'niño', 'nuevo', 'lenguaje', 'código', 'dominar', 'mundo', 'decretar', 'no', 'pretender', 'abarcarlo', 'educación', 'tarea', 'infinito', 'exigir', 'enfrentar', 'nuevo', 'desafío', 'día', 'desafío', 'enfrentar', 'junto', 'solo', 'junto', 'rehabilitar', 'escuela', 'rural', 'impulsar', 'educación', 'intercultural', 'revalorizar', 'papel', 'docente', 'mucho', 'más', 'visión', 'sistema', 'educativo', 'incluir', 'campar', 'zona', 'rural', 'no', 'dejar', 'atrás', 'llamar', 'involucrarnos', 'partir', 'gran', 'encontrar', 'educación', 'lograr', 'espacio', 'verdadero', 'cambiar', 'trabajar', 'año', 'cambiar', 'buscar', 'modernidad', 'inclusión', 'oportunidad', 'prosperidad', 'niño', 'niño', 'joven', 'maestro', 'cambiar', 'hoy', 'hacer', 'realidad', 'educación', 'definitivamente', 'recurso', 'nunca', 'agotar', 'siempre', 'impulsar', 'nuevo', 'ideo', 'descubrimiento', 'avanzar', 'motor', 'desarrollar', 'nunca', 'acabar', 'energía', 'vida', 'testimoniar', 'pesar', 'no', 'tener', 'oportunidad', 'terminar', 'caminar', 'importancia', 'educación', 'nunca', 'dar', 'terminar', 'tarea', 'formarme', 'importar', 'etapa', 'vida', 'apasionar', 'tanto', 'niño', 'aprender', 'joven', 'educar', 'ser', 'conocimiento', 'emancipación', 'independencia', 'autonomía', 'dignidad', 'autoestima', 'ser', 'primero', 'manir', 'vía', 'más', 'seguro', 'salir', 'pobreza', 'país', 'vía', 'llevar', 'nuevo', 'ecuador', 'inclusión', 'encontrar', 'vía', 'recorrerla', 'junto', 'trabajar', 'siempre', 'bienestar', 'gente', 'compromiso', 'solo', 'junto', 'lograr', 'hoy', 'decretar', 'iniciar', 'caminar', 'transformación', 'educativo', 'gracia']\n",
            "Discurso # 2 ['muy', 'bueno', 'tarde', 'señor', 'señor', 'prefecto', 'provincia', 'señor', 'alcalde', 'byron', 'cárdeno', 'señor', 'alcalde', 'señor', 'ministro', 'secretario', 'señor', 'oficial', 'policía', 'señor', 'gobernador', 'provincia', 'señor', 'miembro', 'medio', 'comunicación', 'compatriota', 'momento', 'difícil', 'hacer', 'presente', 'aquí', 'ciudad', 'dar', 'mensaje', 'seguridad', 'ciudadanía', 'aquí', 'querer', 'enviar', 'mensaje', 'solidaridad', 'valiente', 'oficial', 'policía', 'víctima', 'cobarde', 'agresión', 'sexual', 'tener', 'respaldar', 'justicia', 'castigar', 'agresor', 'pesar', 'ley', 'querer', 'decirles', 'ya', 'actuar', 'juntar', 'fiscalía', 'también', 'querer', 'enviar', 'condolencia', 'lasfamilias', 'víctima', 'fallecido', 'incidente', 'asimismo', 'querer', 'expresar', 'total', 'respaldar', 'fuerza', 'orden', 'encontrar', 'restablecer', 'pleno', 'control', 'centro', 'privación', 'libertar', 'tanto', 'provincia', 'noche', 'anterior', 'producir', 'amotinamiento', 'incidente', 'banda', 'delincuencial', 'contundente', 'intervención', 'policía', 'firmar', 'respaldar', 'poner', 'fin', 'definitivo', 'incidente', 'decir', 'querer', 'siguiente', 'mafia', 'pretender', 'amedrentar', 'país', 'querer', 'decirles', 'equivocar', 'creer', 'gobernar', 'ir', 'actuar', 'tibieza', 'anterior', 'equivocar', 'creer', 'temblar', 'manir', 'querer', 'derrotar', 'usar', 'poder', 'ley', 'imponer', 'estar', 'derecho', 'garantizar', 'paz', 'derecho', 'humano', 'centro', 'carcelario', 'nacional', 'tomar', 'accionar', 'inmediato', 'primero', 'declarar', 'estar', 'emergencia', 'sistema', 'carcelario', 'fin', 'movilizar', 'recurso', 'humano', 'económico', 'necesario', 'reestablecer', 'orden', 'segundar', 'lugar', 'establecer', 'control', 'militar', 'perímetro', 'acceso', 'centro', 'carcelario', 'filtrar', 'control', 'policial', 'filtro', 'prácticamente', 'total', 'centro', 'carcelario', 'lugar', 'cesar', 'general', 'edmundo', 'moncayo', 'director', 'nacional', 'atención', 'integral', 'personar', 'adulto', 'privar', 'libertar', 'adolescente', 'infractor', 'cuartar', 'lugar', 'suscribir', 'decretar', 'ejecutivo', 'través', 'cualse', 'nombrar', 'coronel', 'servicio', 'pasivo', 'nuevo', 'director', 'servicio', 'nacional', 'atención', 'integral', 'personar', 'privar', 'libertar', 'reiterar', 'vez', 'más', 'mafia', 'derrotar', 'paz', 'forzar', 'ley', 'estar', 'derecho', 'imperar', 'fin', 'saludar', 'vez', 'más', 'héroe', 'uniformar', 'país', 'gracia', 'trabajar', 'decidir', 'favor', 'paz', 'seguridad', 'tranquilidad', 'derecho', 'humano', 'gracia']\n",
            "Discurso # 3 ['muy', 'bueno', 'día', 'gustar', 'verlos', 'cumplir', 'procedimiento', 'segundar', 'dosis', 'vacuno', 'asir', 'ya', 'inmunizar', 'tener', 'muy', 'bueno', 'noticiar', 'ecuatoriano', 'lugar', 'ayer', 'ya', 'rotar', 'nuevamente', 'récord', 'casi', 'vacunar', 'fecho', 'vacunar', 'primero', 'segundar', 'dosis', 'cercar', 'millón', 'ecuatoriano', 'partir', 'julio', 'comenzar', 'segundar', 'etapa', 'plan', 'tener', 'prever', 'vacunar', 'millón', 'ecuatoriano', 'adicional', 'primero', 'dosis', 'final', 'julio', 'millón', 'segundar', 'dosis', 'final', 'agostar', 'sistema', 'masivo', 'costa', 'serrar', 'amazonía', 'galápago', 'ya', 'vacunar', 'más', 'población', 'dosis', 'implementar', 'sistema', 'transparente', 'información', 'actualizar', 'través', 'salud', 'público', 'certificar', 'vacunación', 'obtener', 'manera', 'digital', 'poner', 'nombrar', 'número', 'cédula', 'tener', 'certificar', 'fecho', 'tener', 'cercar', 'millón', 'vacuno', 'contar', 'llegar', 'final', 'mes', 'asir', 'procesar', 'avanzar', 'gracia', 'lograr', 'conseguir', 'vacuno', 'requerir', 'pedir', 'poblar', 'ecuatoriano', 'poner', 'hombro', 'manera', 'reactivar', 'economía', 'recuperar', 'normalidad', 'vivir', 'familia', 'paz', 'tranquilidad', 'sí', 'pesar', 'dosis', 'mantener', 'prudencia', 'usar', 'utilizar', 'alcohol', 'tener', 'cuidar', 'no', 'excedernos', 'reunión', 'número', 'personar', 'ir', 'más', 'allá', 'establecer', 'norma', 'bioseguridad', 'querer', 'destacar', 'trabajar', 'liderar', 'doctorar', 'integrar', 'también', 'viceministro', 'doctor', 'apoyar', 'también', 'fundamental', 'representar', 'teniente', 'pulla', 'decano', 'medicinar', 'apoyar', 'representar', 'manera', 'especial', 'pitar', 'apoyar', 'medio', 'comunicación', 'difundir', 'información', 'diariamente', 'hacer', 'llamar', 'vacunación', 'también', 'reconocer', 'esforzar', 'población', 'ecuatoriano', 'resultar', 'lograr', 'no', 'mérito', 'exclusivo', 'ciudadano', 'especialmente', 'querer', 'destacar', 'esforzar', 'sacrificio', 'personal', 'médico', 'salud', 'público', 'trabajar', 'manera', 'denodado', 'dedicación', 'sacrificio', 'hacer', 'loable', 'tarea', 'precautelar', 'salud', 'ecuatoriano', 'agradecer', 'mucho', 'acompañarme', 'momento', 'vacunación', 'asir', 'hacer', 'esperar', 'hacer', 'próximo', 'día', 'partir', 'próximo', 'lunes', 'empezar', 'vacunar', 'año', 'edad', 'tanto', 'ya', 'apertura', 'completo', 'segmento', 'edad', 'grupo', 'objetivar', 'grupo', 'prioritario', 'posteriormente', 'anunciar', 'nuevo', 'meter', 'plan', 'vacunación', 'permitir', 'reactivar', 'economía', 'generar', 'emplear', 'nuevamente', 'oportunidad', 'ecuatoriano', 'gracia', 'querido', 'amigo', 'gracia']\n",
            "Discurso # 4 ['presidente', 'secretario', 'educación', 'superior', 'innovación', 'señor', 'señor', 'asambleísta', 'ministro', 'secretario', 'autoridad', 'nacional', 'señor', 'medio', 'comunicación', 'presidente', 'tan', 'pronto', 'firmar', 'decretar', 'permitir', 'reactivación', 'proyectar', 'decir', 'histórico', 'ciertamente', 'histórico', 'encontrar', 'ecuatoriano', 'importante', 'suponer', 'sector', 'indígena', 'representar', 'aproximadamente', 'población', 'merecer', 'atención', 'encontrar', 'significar', 'casar', 'universidad', 'dedicar', 'orientar', 'educación', 'intercultural', 'contar', 'plan', 'desarrollar', 'estratégico', 'institucional', 'modelar', 'pedagógico', 'contar', 'estatuto', 'reglamentar', 'internar', 'régimen', 'académico', 'reglamentar', 'elección', 'carrera', 'ofertar', 'ahora', 'lengua', 'cultura', 'gestión', 'desarrollar', 'infantil', 'familiar', 'comunitario', 'derecho', 'enfocar', 'pluralismo', 'jurídico', 'universidad', 'iniciar', 'actividad', 'académico', 'correspondiente', 'ciclar', 'carrera', 'lengua', 'cultura', 'mayar', 'día', 'presentar', 'proyectar', 'reformar', 'ley', 'orgánico', 'educación', 'superior', 'martes', 'tener', 'oportunidad', 'visitar', 'manera', 'público', 'presentar', 'proyectar', 'fundamental', 'joven', 'ecuatoriano', 'señor', 'presidente', 'necesitar', 'universidad', 'libre', 'joven', 'libre', 'universidad', 'libre', 'ofrecer', 'carrera', 'universitario', 'desarrollar', 'país', 'nuevo', 'tecnología', 'universidad', 'libre', 'decidir', 'extensión', 'universitario', 'considerar', 'adecuar', 'universidad', 'libre', 'establecer', 'sistema', 'educación', 'presencial', 'distanciar', 'más', 'importante', 'necesitar', 'joven', 'libre', 'señor', 'presidente', 'último', 'año', 'actividad', 'político', 'dedicar', 'recorrer', 'conversación', 'joven', 'ecuatoriano', 'siempre', 'aparecer', 'preocupación', 'no', 'existir', 'cupo', 'suficiente', 'estudiar', 'cercar', 'bachiller', 'graduar', 'año', 'apenar', 'cupo', 'universidad', 'joven', 'año', 'ver', 'postergar', 'objetivar', 'soñar', 'estudiar', 'sumir', 'economía', 'ecuatoriano', 'lugar', 'crear', 'empleo', 'último', 'año', 'destruir', 'tener', 'generación', 'joven', 'no', 'estudiar', 'no', 'trabajar', 'caminar', 'desesperanzar', 'preocupación', 'ansiedad', 'vez', 'penosamente', 'terminar', 'captar', 'crimen', 'transnacional', 'tanto', 'vida', 'desperdiciar', 'tener', 'trabajar', 'urgencia', 'señor', 'presidente', 'asir', 'entender', 'urgencia', 'poner', 'funcionar', 'casar', 'querer', 'pedirle', 'apoyar', 'colaboración', 'asambleísta', 'hacer', 'día', 'martes', 'reformar', 'ley', 'educación', 'superior', 'tramitar', 'menor', 'tiempo', 'posible', 'no', 'homenaje', 'reciprocidad', 'homenaje', 'joven', 'ecuatoriano', 'momento', 'hora', 'día', 'esperar', 'llevar', 'cabo', 'autoridad', 'accionar', 'encaminar', 'crear', 'futuro', 'crear', 'esperanzar', 'juventud', 'gracia', 'presenciar', 'acto', 'abrazar', 'alegrar', 'muy', 'contento', 'muy', 'alegrar', 'bueno', 'no', 'decir', 'decir', 'voz', 'bajo', 'bueno', 'escandalizar', 'poblar', 'ecuatoriano', 'decir', 'tan', 'emocionar', 'querer', 'darme', 'abrazar', 'besar', 'asir', 'señor', 'presidente', 'aquí', 'listar', 'abrazar', 'besar']\n",
            "\n",
            "\n",
            "---------------------------Bigram------------------------------------\n",
            "['2016_celebración', 'abandonar_niño', 'abarcarlo_educación', 'abrazar_alegrar', 'abrazar_bendecir', 'abrazar_besar', 'abrir_punto', 'absorber_conocimiento', 'acabar_colegio', 'acabar_energía', 'académico_correspondiente', 'académico_reglamentar', 'acceso_alimento', 'acceso_centro', 'accionar_encaminar']\n"
          ]
        },
        {
          "output_type": "stream",
          "name": "stderr",
          "text": [
            "/usr/local/lib/python3.7/dist-packages/gensim/models/phrases.py:598: UserWarning: For a faster implementation, use the gensim.models.phrases.Phraser class\n",
            "  warnings.warn(\"For a faster implementation, use the gensim.models.phrases.Phraser class\")\n"
          ]
        },
        {
          "output_type": "stream",
          "name": "stdout",
          "text": [
            "\n",
            "\n",
            "---------------------------StopWords---------------------------------\n",
            "Discurso # 0 ['apreciar', 'jefe', 'representante', 'organismo', 'internacional', 'sociedad', 'civil', 'valioso', 'articulación', 'nación', 'promover', 'transformación', 'agroalimentario', 'hallar', 'solucionar', 'sostenibilidad', 'igual', 'mayoría', 'país', 'mundo', 'trabajar', 'agricultor', 'esencial', 'economía', 'país', 'bueno', 'alimentación', 'nutrición', 'millón', 'familia', 'sector', 'agrícola', 'contribuir', 'producto', 'internar', 'bruto', 'alrededor', 'millón', 'dólar', 'significar', 'generación', 'emplear', 'población', 'lamentablemente', 'pesar', 'importante', 'cifrar', 'campesino', 'aun', 'enfrentar', 'grande', 'desigualdad', 'subsistir', 'producir', 'apenar', 'gobernar', 'empezar', 'gestión', 'iniciar', 'procesar', 'fortalecimiento', 'trabajar', 'ayudar', 'productor', 'ecuatoriano', 'pronto', 'dar', 'crédito', 'interesar', 'año', 'plazo', 'trabajar', 'tranquilidad', 'formar', 'paralelo', 'ganadería', 'pescar', 'trabajar', 'diseñar', 'sistema', 'regar', 'restructuración', 'completo', 'atención', 'campar', 'marcar', 'cumbre', 'alimentario', 'querer', 'gobernar', 'trabajar', 'pausar', 'reducción', 'desnutrición', 'crónico', 'infantil', 'afecto', 'niño', 'menor', 'año', 'priorizar', 'acceso', 'alimento', 'responsabilidad', 'actor', 'cadena', 'agroalimentario', 'finalizar', 'importante', 'próximo', 'año', 'anfitrión', 'conferenciar', 'regional', 'alimentación', 'agricultura', 'tener', 'firmar', 'convicción', 'país', 'región', 'trabajar', 'propósito', 'crear', 'mecanismo', 'potenciar', 'capacidad', 'fomentar', 'sistema', 'alimentario', 'eficiente', 'inclusivo', 'sostenible', 'despedir', 'fuerte', 'abrazar', 'bendecir', 'humanidad', 'gracia']\n",
            "Discurso # 1 ['educación', 'señor', 'secretario', 'general', 'jurídico', 'presidencia', 'señor', 'unidad', 'educativo', 'estimar', 'profesor', 'profesor', 'presente', 'querido', 'padre', 'familia', 'querido', 'estudiante', 'representante', 'medio', 'comunicación', 'día', 'atrás', 'aquí', 'capital', 'iniciar', 'caminar', 'encontrar', 'día', 'ceremonia', 'posesión', 'transmisión', 'mandar', 'todoslos', 'ciudadano', 'solo', 'presidente', 'hoy', 'venir', 'tumbaco', 'maravilloso', 'unidad', 'educativo', 'rural', 'alejar', 'movimiento', 'grande', 'ciudad', 'tener', 'privilegiar', 'servirlos', 'acudir', 'encontrar', 'conciudadano', 'aquí', 'másse', 'sufrir', 'problema', 'momento', 'encontrar', 'construir', 'maestro', 'directivo', 'trabajador', 'establecimiento', 'querer', 'felicitar', 'instalación', 'parecer', 'pequeño', 'tamaño', 'esforzar', 'gigante', 'señor', 'director', 'hacer', 'niño', 'niño', 'comunidad', 'dignar', 'admirar', 'mañana', 'cosechar', 'fruto', 'mente', 'aquí', 'cultivar', 'querido', 'maestro', 'cambiar', 'educación', 'reconocer', 'consistir', 'solamente', 'memorizar', 'dato', 'dar', 'título', 'educación', 'llamar', 'educación', 'basar', 'país', 'lugar', 'encontrar', 'excelencia', 'aula', 'representar', 'después', 'hogar', 'familia', 'familia', 'íntimo', 'momento', 'vida', 'socializar', 'aquí', 'aprender', 'grande', 'llamar', 'contribuir', 'país', 'nación', 'referir', 'solamente', 'bandera', 'símbolo', 'referir', 'maestro', 'inculcar', 'valorar', 'compañero', 'querer', 'comprender', 'aula', 'amar', 'amor', 'tiempo', 'convertir', 'voluntad', 'ciudadano', 'retribuir', 'embargar', 'realidad', 'educativo', 'corresponder', 'país', 'inclusión', 'contrario', 'describir', 'abandonar', 'niño', 'contar', 'escolaridad', 'básico', 'terminar', 'bachillerato', 'joven', 'acabar', 'colegio', 'luego', 'seguir', 'estudio', 'universitario', 'año', 'decena', 'acumular', 'desesperanzar', 'desempleo', 'familia', 'rotar', 'finalmente', 'país', 'ver', 'salir', 'capaz', 'darles', 'hoy', 'educación', 'esperar', 'luego', 'animar', 'construir', 'mejor', 'país', 'bien', 'hoy', 'encontrar', 'aquí', 'aula', 'cambiar', 'realidad', 'empezar', 'decretar', 'hoy', 'tener', 'orgullo', 'firmar', 'resumir', 'eje', 'accionar', 'lugar', 'reconocer', 'día', 'niño', 'ir', 'escuela', 'joven', 'ir', 'colegiar', 'día', 'perder', 'país', 'permitir', 'crecer', 'vacío', 'maestro', 'conocimiento', 'creatividad', 'dentro', 'eje', 'encontrémonos', 'encargar', 'educación', 'diseñar', 'plan', 'retornar', 'paulatino', 'voluntario', 'progresivo', 'aula', 'colegio', 'parroquia', 'país', 'ejecutar', 'brevedad', 'posible', 'señor', 'niño', 'estudiar', 'abrir', 'punto', 'encontrar', 'parroquia', 'segundar', 'eje', 'llamar', 'familia', 'hoy', 'sufrir', 'falto', 'escuela', 'cercano', 'afinar', 'necesidad', 'decretar', 'significar', 'reencontrar', 'educación', 'intercultural', 'reabrir', 'escuela', 'rural', 'suprimir', 'celebración', 'diversidad', 'sistema', 'educativo', 'nacional', 'asir', 'educación', 'intercultural', 'eje', 'libre', 'flexible', 'significar', 'ecuador', 'construir', 'perspectivo', 'demandar', 'respetar', 'autonomía', 'educativo', 'querer', 'padre', 'exigir', 'escuela', 'proponer', 'mejor', 'valorar', 'querer', 'hijo', 'asimismo', 'querer', 'escuela', 'flexibilidad', 'ofrecer', 'contenido', 'mejor', 'aceptación', 'tener', 'comunidad', 'contribuir', 'sociedad', 'además', 'trabajar', 'editorial', 'producir', 'recurso', 'pedagógico', 'texto', 'autónomo', 'corresponsable', 'contenido', 'calidad', 'texto', 'escolar', 'encontrar', 'fomentar', 'participación', 'innovación', 'excelencia', 'cuartar', 'eje', 'llamar', 'fuerte', 'dirigir', 'especialmente', 'maestro', 'olvidarse', 'formar', 'niño', 'tarea', 'tan', 'importante', 'profesional', 'embargar', 'pagar', 'debajo', 'merecer', 'recibir', 'capacitación', 'requerir', 'mantenerse', 'actualizar', 'decretar', 'ordenar', 'dignificación', 'carrera', 'profesional', 'consejería', 'estudiantil', 'docente', 'directivo', 'través', 'formación', 'profesional', 'continuo', 'actualización', 'docente', 'implementación', 'incentivo', 'laboral', 'complementario', 'salariar', 'seguir', 'formándolos', 'formar', 'alumno', 'último', 'quintar', 'eje', 'excelencia', 'educativo', 'necesitar', 'sistema', 'estudiante', 'encontrar', 'tecnología', 'futuro', 'ecuador', 'encontrar', 'mientraslas', 'mente', 'niño', 'recibir', 'herramienta', 'absorber', 'conocimiento', 'avanzar', 'planeta', 'internet', 'computador', 'teléfono', 'inteligente', 'presente', 'escuela', 'propiciar', 'encontrar', 'niño', 'nuevo', 'lenguaje', 'código', 'dominar', 'mundo', 'decretar', 'pretender', 'abarcarlo', 'educación', 'tarea', 'infinito', 'exigir', 'enfrentar', 'nuevo', 'desafío', 'día', 'desafío', 'enfrentar', 'junto', 'solo', 'junto', 'rehabilitar', 'escuela', 'rural', 'impulsar', 'educación', 'intercultural', 'revalorizar', 'papel', 'docente', 'visión', 'sistema', 'educativo', 'incluir', 'campar', 'zona', 'rural', 'dejar', 'atrás', 'llamar', 'involucrarnos', 'partir', 'gran', 'encontrar', 'educación', 'lograr', 'espacio', 'verdadero', 'cambiar', 'trabajar', 'año', 'cambiar', 'buscar', 'modernidad', 'inclusión', 'oportunidad', 'prosperidad', 'niño', 'niño', 'joven', 'maestro', 'cambiar', 'hoy', 'hacer', 'realidad', 'educación', 'definitivamente', 'recurso', 'nunca', 'agotar', 'siempre', 'impulsar', 'nuevo', 'ideo', 'descubrimiento', 'avanzar', 'motor', 'desarrollar', 'nunca', 'acabar', 'energía', 'vida', 'testimoniar', 'pesar', 'tener', 'oportunidad', 'terminar', 'caminar', 'importancia', 'educación', 'nunca', 'dar', 'terminar', 'tarea', 'formarme', 'importar', 'etapa', 'vida', 'apasionar', 'niño', 'aprender', 'joven', 'educar', 'ser', 'conocimiento', 'emancipación', 'independencia', 'autonomía', 'dignidad', 'autoestima', 'ser', 'primero', 'manir', 'vía', 'seguro', 'salir', 'pobreza', 'país', 'vía', 'llevar', 'nuevo', 'ecuador', 'inclusión', 'encontrar', 'vía', 'recorrerla', 'junto', 'trabajar', 'siempre', 'bienestar', 'gente', 'compromiso', 'solo', 'junto', 'lograr', 'hoy', 'decretar', 'iniciar', 'caminar', 'transformación', 'educativo', 'gracia', 'medio_comunicación', 'mucho_más', 'educación_intercultural', 'educación_intercultural', 'mucho_más', 'educación_intercultural', 'mucho_más']\n",
            "Discurso # 2 ['bueno', 'tarde', 'señor', 'señor', 'prefecto', 'provincia', 'señor', 'alcalde', 'byron', 'cárdeno', 'señor', 'alcalde', 'señor', 'ministro', 'secretario', 'señor', 'oficial', 'policía', 'señor', 'gobernador', 'provincia', 'señor', 'miembro', 'medio', 'comunicación', 'compatriota', 'momento', 'difícil', 'hacer', 'presente', 'aquí', 'ciudad', 'dar', 'mensaje', 'seguridad', 'ciudadanía', 'aquí', 'querer', 'enviar', 'mensaje', 'solidaridad', 'valiente', 'oficial', 'policía', 'víctima', 'cobarde', 'agresión', 'sexual', 'tener', 'respaldar', 'justicia', 'castigar', 'agresor', 'pesar', 'ley', 'querer', 'decirles', 'actuar', 'juntar', 'fiscalía', 'querer', 'enviar', 'condolencia', 'lasfamilias', 'víctima', 'fallecido', 'incidente', 'asimismo', 'querer', 'expresar', 'total', 'respaldar', 'fuerza', 'orden', 'encontrar', 'restablecer', 'pleno', 'control', 'centro', 'privación', 'libertar', 'provincia', 'noche', 'anterior', 'producir', 'amotinamiento', 'incidente', 'banda', 'delincuencial', 'contundente', 'intervención', 'policía', 'firmar', 'respaldar', 'poner', 'fin', 'definitivo', 'incidente', 'decir', 'querer', 'siguiente', 'mafia', 'pretender', 'amedrentar', 'país', 'querer', 'decirles', 'equivocar', 'creer', 'gobernar', 'ir', 'actuar', 'tibieza', 'anterior', 'equivocar', 'creer', 'temblar', 'manir', 'querer', 'derrotar', 'usar', 'poder', 'ley', 'imponer', 'derecho', 'garantizar', 'paz', 'derecho', 'humano', 'centro', 'carcelario', 'nacional', 'tomar', 'accionar', 'inmediato', 'primero', 'declarar', 'emergencia', 'sistema', 'carcelario', 'fin', 'movilizar', 'recurso', 'humano', 'económico', 'necesario', 'reestablecer', 'orden', 'segundar', 'lugar', 'establecer', 'control', 'militar', 'perímetro', 'acceso', 'centro', 'carcelario', 'filtrar', 'control', 'policial', 'filtro', 'prácticamente', 'total', 'centro', 'carcelario', 'lugar', 'cesar', 'general', 'edmundo', 'moncayo', 'director', 'nacional', 'atención', 'integral', 'personar', 'adulto', 'privar', 'libertar', 'adolescente', 'infractor', 'cuartar', 'lugar', 'suscribir', 'decretar', 'ejecutivo', 'través', 'cualse', 'nombrar', 'coronel', 'servicio', 'pasivo', 'nuevo', 'director', 'servicio', 'nacional', 'atención', 'integral', 'personar', 'privar', 'libertar', 'reiterar', 'vez', 'mafia', 'derrotar', 'paz', 'forzar', 'ley', 'derecho', 'imperar', 'fin', 'saludar', 'vez', 'héroe', 'uniformar', 'país', 'gracia', 'trabajar', 'decidir', 'favor', 'paz', 'seguridad', 'tranquilidad', 'derecho', 'humano', 'gracia', 'muy_bueno', 'medio_comunicación', 'centro_carcelario', 'centro_carcelario', 'centro_carcelario']\n",
            "Discurso # 3 ['bueno', 'día', 'gustar', 'verlos', 'cumplir', 'procedimiento', 'segundar', 'dosis', 'vacuno', 'asir', 'inmunizar', 'tener', 'bueno', 'noticiar', 'ecuatoriano', 'lugar', 'ayer', 'rotar', 'nuevamente', 'récord', 'casi', 'vacunar', 'fecho', 'vacunar', 'primero', 'segundar', 'dosis', 'cercar', 'millón', 'ecuatoriano', 'partir', 'julio', 'comenzar', 'segundar', 'etapa', 'plan', 'tener', 'prever', 'vacunar', 'millón', 'ecuatoriano', 'adicional', 'primero', 'dosis', 'final', 'julio', 'millón', 'segundar', 'dosis', 'final', 'agostar', 'sistema', 'masivo', 'costa', 'serrar', 'amazonía', 'galápago', 'vacunar', 'población', 'dosis', 'implementar', 'sistema', 'transparente', 'información', 'actualizar', 'través', 'salud', 'público', 'certificar', 'vacunación', 'obtener', 'manera', 'digital', 'poner', 'nombrar', 'número', 'cédula', 'tener', 'certificar', 'fecho', 'tener', 'cercar', 'millón', 'vacuno', 'contar', 'llegar', 'final', 'mes', 'asir', 'procesar', 'avanzar', 'gracia', 'lograr', 'conseguir', 'vacuno', 'requerir', 'pedir', 'poblar', 'ecuatoriano', 'poner', 'hombro', 'manera', 'reactivar', 'economía', 'recuperar', 'normalidad', 'vivir', 'familia', 'paz', 'tranquilidad', 'pesar', 'dosis', 'mantener', 'prudencia', 'usar', 'utilizar', 'alcohol', 'tener', 'cuidar', 'excedernos', 'reunión', 'número', 'personar', 'ir', 'allá', 'establecer', 'norma', 'bioseguridad', 'querer', 'destacar', 'trabajar', 'liderar', 'doctorar', 'integrar', 'viceministro', 'doctor', 'apoyar', 'fundamental', 'representar', 'teniente', 'pulla', 'decano', 'medicinar', 'apoyar', 'representar', 'manera', 'especial', 'pitar', 'apoyar', 'medio', 'comunicación', 'difundir', 'información', 'diariamente', 'hacer', 'llamar', 'vacunación', 'reconocer', 'esforzar', 'población', 'ecuatoriano', 'resultar', 'lograr', 'mérito', 'exclusivo', 'ciudadano', 'especialmente', 'querer', 'destacar', 'esforzar', 'sacrificio', 'personal', 'médico', 'salud', 'público', 'trabajar', 'manera', 'denodado', 'dedicación', 'sacrificio', 'hacer', 'loable', 'tarea', 'precautelar', 'salud', 'ecuatoriano', 'agradecer', 'acompañarme', 'momento', 'vacunación', 'asir', 'hacer', 'esperar', 'hacer', 'próximo', 'día', 'partir', 'próximo', 'lunes', 'empezar', 'vacunar', 'año', 'edad', 'apertura', 'completo', 'segmento', 'edad', 'grupo', 'objetivar', 'grupo', 'prioritario', 'posteriormente', 'anunciar', 'nuevo', 'meter', 'plan', 'vacunación', 'permitir', 'reactivar', 'economía', 'generar', 'emplear', 'nuevamente', 'oportunidad', 'ecuatoriano', 'gracia', 'querido', 'amigo', 'gracia', 'muy_bueno', 'segundar_dosis', 'muy_bueno', 'segundar_dosis', 'segundar_dosis', 'medio_comunicación']\n",
            "Discurso # 4 ['presidente', 'secretario', 'educación', 'superior', 'innovación', 'señor', 'señor', 'asambleísta', 'ministro', 'secretario', 'autoridad', 'nacional', 'señor', 'medio', 'comunicación', 'presidente', 'tan', 'pronto', 'firmar', 'decretar', 'permitir', 'reactivación', 'proyectar', 'decir', 'histórico', 'ciertamente', 'histórico', 'encontrar', 'ecuatoriano', 'importante', 'suponer', 'sector', 'indígena', 'representar', 'aproximadamente', 'población', 'merecer', 'atención', 'encontrar', 'significar', 'casar', 'universidad', 'dedicar', 'orientar', 'educación', 'intercultural', 'contar', 'plan', 'desarrollar', 'estratégico', 'institucional', 'modelar', 'pedagógico', 'contar', 'estatuto', 'reglamentar', 'internar', 'régimen', 'académico', 'reglamentar', 'elección', 'carrera', 'ofertar', 'ahora', 'lengua', 'cultura', 'gestión', 'desarrollar', 'infantil', 'familiar', 'comunitario', 'derecho', 'enfocar', 'pluralismo', 'jurídico', 'universidad', 'iniciar', 'actividad', 'académico', 'correspondiente', 'ciclar', 'carrera', 'lengua', 'cultura', 'mayar', 'día', 'presentar', 'proyectar', 'reformar', 'ley', 'orgánico', 'educación', 'superior', 'martes', 'tener', 'oportunidad', 'visitar', 'manera', 'público', 'presentar', 'proyectar', 'fundamental', 'joven', 'ecuatoriano', 'señor', 'presidente', 'necesitar', 'universidad', 'libre', 'joven', 'libre', 'universidad', 'libre', 'ofrecer', 'carrera', 'universitario', 'desarrollar', 'país', 'nuevo', 'tecnología', 'universidad', 'libre', 'decidir', 'extensión', 'universitario', 'considerar', 'adecuar', 'universidad', 'libre', 'establecer', 'sistema', 'educación', 'presencial', 'distanciar', 'importante', 'necesitar', 'joven', 'libre', 'señor', 'presidente', 'último', 'año', 'actividad', 'político', 'dedicar', 'recorrer', 'conversación', 'joven', 'ecuatoriano', 'siempre', 'aparecer', 'preocupación', 'existir', 'cupo', 'suficiente', 'estudiar', 'cercar', 'bachiller', 'graduar', 'año', 'apenar', 'cupo', 'universidad', 'joven', 'año', 'ver', 'postergar', 'objetivar', 'soñar', 'estudiar', 'sumir', 'economía', 'ecuatoriano', 'lugar', 'crear', 'empleo', 'último', 'año', 'destruir', 'tener', 'generación', 'joven', 'estudiar', 'trabajar', 'caminar', 'desesperanzar', 'preocupación', 'ansiedad', 'vez', 'penosamente', 'terminar', 'captar', 'crimen', 'transnacional', 'vida', 'desperdiciar', 'tener', 'trabajar', 'urgencia', 'señor', 'presidente', 'asir', 'entender', 'urgencia', 'poner', 'funcionar', 'casar', 'querer', 'pedirle', 'apoyar', 'colaboración', 'asambleísta', 'hacer', 'día', 'martes', 'reformar', 'ley', 'educación', 'superior', 'tramitar', 'menor', 'tiempo', 'posible', 'homenaje', 'reciprocidad', 'homenaje', 'joven', 'ecuatoriano', 'momento', 'hora', 'día', 'esperar', 'llevar', 'cabo', 'autoridad', 'accionar', 'encaminar', 'crear', 'futuro', 'crear', 'esperanzar', 'juventud', 'gracia', 'presenciar', 'acto', 'abrazar', 'alegrar', 'contento', 'alegrar', 'bueno', 'decir', 'decir', 'voz', 'bajo', 'bueno', 'escandalizar', 'poblar', 'ecuatoriano', 'decir', 'tan', 'emocionar', 'querer', 'darme', 'abrazar', 'besar', 'asir', 'señor', 'presidente', 'aquí', 'listar', 'abrazar', 'besar', 'educación_superior', 'medio_comunicación', 'educación_intercultural', 'educación_superior', 'joven_ecuatoriano', 'señor_presidente', 'universidad_libre', 'universidad_libre', 'universidad_libre', 'universidad_libre', 'señor_presidente', 'joven_ecuatoriano', 'señor_presidente', 'educación_superior', 'joven_ecuatoriano', 'señor_presidente']\n",
            "\n",
            "\n",
            "--------------------------Diccionario---------------------------------------\n",
            "Dictionary(229 unique tokens: ['abrazar', 'acceso', 'agricultor', 'agricultura', 'agroalimentario']...)\n",
            "229\n",
            "\n",
            "\n",
            "[[('abrazar', 1), ('acceso', 1), ('agricultor', 1), ('agricultura', 1), ('agroalimentario', 2), ('alimentación', 2), ('alimentario', 2), ('apenar', 1), ('articulación', 1), ('campar', 1), ('completo', 1), ('conferenciar', 1), ('convicción', 1), ('crear', 1), ('desigualdad', 1), ('desnutrición', 1), ('diseñar', 1), ('emplear', 1), ('enfrentar', 1), ('fomentar', 1), ('formar', 1), ('fortalecimiento', 1), ('fuerte', 1), ('gestión', 1), ('gobernar', 2), ('grande', 1), ('infantil', 1), ('internacional', 1), ('internar', 1), ('lamentablemente', 1), ('menor', 1), ('millón', 2), ('mundo', 1), ('nación', 1), ('niño', 1), ('procesar', 1), ('pronto', 1), ('próximo', 1), ('responsabilidad', 1), ('restructuración', 1), ('sector', 1), ('sociedad', 1), ('solucionar', 1), ('sostenibilidad', 1), ('sostenible', 1)], [('campar', 1), ('diseñar', 1), ('enfrentar', 2), ('fomentar', 1), ('formar', 2), ('fuerte', 1), ('grande', 2), ('mundo', 1), ('nación', 1), ('niño', 11), ('sociedad', 1), ('aceptación', 1), ('actualización', 1), ('asimismo', 1), ('autoestima', 1), ('avanzar', 2), ('bachillerato', 1), ('caminar', 3), ('capacitación', 1), ('carrera', 1), ('celebración', 1), ('ciudad', 1), ('ciudadano', 2), ('complementario', 1), ('comprender', 1), ('compromiso', 1), ('computador', 1), ('conciudadano', 1), ('conocimiento', 3), ('consejería', 1), ('corresponder', 1), ('corresponsable', 1), ('creatividad', 1), ('cuartar', 1), ('definitivamente', 1), ('descubrimiento', 1), ('dignificación', 1), ('director', 1), ('diversidad', 1), ('educación', 13), ('emancipación', 1), ('encontrémonos', 1), ('escolaridad', 1), ('esforzar', 1), ('establecimiento', 1), ('estudiante', 2), ('estudiantil', 1), ('estudiar', 1), ('etapa', 1), ('excelencia', 3), ('finalmente', 1), ('flexibilidad', 1), ('formándolos', 1), ('futuro', 1), ('general', 1), ('herramienta', 1), ('implementación', 1), ('importancia', 1), ('independencia', 1), ('instalación', 1), ('inteligente', 1), ('involucrarnos', 1), ('joven', 4), ('jurídico', 1), ('libre', 1), ('llamar', 5), ('llevar', 1), ('lograr', 2), ('manir', 1), ('mantenerse', 1), ('maravilloso', 1), ('merecer', 1), ('mientraslas', 1), ('modernidad', 1), ('movimiento', 1), ('necesitar', 1), ('ofrecer', 1), ('participación', 1), ('partir', 1), ('perspectivo', 1), ('posible', 1), ('presente', 2), ('presidencia', 1), ('pretender', 1), ('privilegiar', 1), ('profesional', 3), ('progresivo', 1), ('prosperidad', 1), ('querido', 3), ('reconocer', 2), ('recorrerla', 1), ('recurso', 2), ('reencontrar', 1), ('rehabilitar', 1), ('requerir', 1), ('revalorizar', 1), ('rotar', 1), ('siempre', 2), ('socializar', 1), ('tan', 1), ('tarea', 3), ('terminar', 3), ('testimoniar', 1), ('tiempo', 1), ('trabajador', 1), ('transmisión', 1), ('ver', 1), ('vida', 3), ('voluntario', 1), ('último', 1)], [('acceso', 1), ('gobernar', 1), ('asimismo', 1), ('ciudad', 1), ('cuartar', 1), ('director', 2), ('general', 1), ('manir', 1), ('presente', 1), ('pretender', 1), ('recurso', 1), ('adolescente', 1), ('amedrentar', 1), ('amotinamiento', 1), ('carcelario', 4), ('centro_carcelario', 3), ('ciudadanía', 1), ('compatriota', 1), ('condolencia', 1), ('contundente', 1), ('decidir', 1), ('decir', 1), ('definitivo', 1), ('delincuencial', 1), ('derecho', 4), ('emergencia', 1), ('garantizar', 1), ('gobernador', 1), ('intervención', 1), ('lasfamilias', 1), ('ley', 3), ('ministro', 1), ('muy_bueno', 1), ('nombrar', 1), ('paz', 3), ('personar', 2), ('prácticamente', 1), ('reestablecer', 1), ('restablecer', 1), ('solidaridad', 1), ('usar', 1), ('vez', 2)], [('completo', 1), ('emplear', 1), ('millón', 4), ('procesar', 1), ('próximo', 2), ('avanzar', 1), ('ciudadano', 1), ('esforzar', 2), ('etapa', 1), ('llamar', 1), ('lograr', 2), ('partir', 2), ('querido', 1), ('reconocer', 1), ('requerir', 1), ('rotar', 1), ('tarea', 1), ('muy_bueno', 2), ('nombrar', 1), ('paz', 1), ('personar', 1), ('usar', 1), ('acompañarme', 1), ('apoyar', 3), ('bioseguridad', 1), ('cercar', 2), ('certificar', 2), ('dedicación', 1), ('diariamente', 1), ('excedernos', 1), ('implementar', 1), ('información', 2), ('manera', 4), ('normalidad', 1), ('nuevamente', 2), ('objetivar', 1), ('poblar', 1), ('posteriormente', 1), ('precautelar', 1), ('prioritario', 1), ('procedimiento', 1), ('público', 2), ('sacrificio', 2), ('segundar_dosis', 3), ('transparente', 1), ('vacunación', 4), ('viceministro', 1)], [('abrazar', 3), ('apenar', 1), ('crear', 3), ('gestión', 1), ('infantil', 1), ('internar', 1), ('menor', 1), ('pronto', 1), ('sector', 1), ('caminar', 1), ('carrera', 3), ('educación', 5), ('estudiar', 3), ('futuro', 1), ('joven', 7), ('jurídico', 1), ('libre', 6), ('llevar', 1), ('merecer', 1), ('necesitar', 2), ('ofrecer', 1), ('posible', 1), ('siempre', 1), ('tan', 2), ('terminar', 1), ('tiempo', 1), ('ver', 1), ('vida', 1), ('último', 2), ('decidir', 1), ('decir', 4), ('derecho', 1), ('ley', 2), ('ministro', 1), ('vez', 1), ('apoyar', 1), ('cercar', 1), ('manera', 1), ('objetivar', 1), ('poblar', 1), ('público', 1), ('aproximadamente', 1), ('asambleísta', 2), ('ciertamente', 1), ('colaboración', 1), ('comunitario', 1), ('considerar', 1), ('conversación', 1), ('correspondiente', 1), ('desperdiciar', 1), ('distanciar', 1), ('educación_superior', 3), ('escandalizar', 1), ('esperanzar', 1), ('estratégico', 1), ('institucional', 1), ('joven_ecuatoriano', 3), ('penosamente', 1), ('pluralismo', 1), ('preocupación', 2), ('presencial', 1), ('presenciar', 1), ('reactivación', 1), ('reciprocidad', 1), ('reglamentar', 2), ('señor_presidente', 4), ('suficiente', 1), ('transnacional', 1), ('universidad', 7), ('universidad_libre', 4)], [('agricultor', 1), ('agricultura', 1), ('agroalimentario', 1), ('alimentación', 1), ('alimentario', 1), ('articulación', 1), ('conferenciar', 1), ('convicción', 1), ('desigualdad', 1), ('desnutrición', 1), ('fortalecimiento', 1), ('internacional', 1), ('lamentablemente', 1), ('responsabilidad', 1), ('restructuración', 1), ('solucionar', 1), ('sostenibilidad', 1), ('sostenible', 1), ('aceptación', 1), ('actualización', 1), ('autoestima', 1), ('bachillerato', 1), ('capacitación', 1), ('celebración', 1), ('complementario', 1), ('comprender', 1), ('compromiso', 1), ('computador', 1), ('conciudadano', 1), ('conocimiento', 1), ('consejería', 1), ('corresponder', 1), ('corresponsable', 1), ('creatividad', 1), ('definitivamente', 1), ('descubrimiento', 1), ('dignificación', 1), ('diversidad', 1), ('emancipación', 1), ('encontrémonos', 1), ('escolaridad', 1), ('establecimiento', 1), ('estudiante', 1), ('estudiantil', 1), ('excelencia', 1), ('finalmente', 1), ('flexibilidad', 1), ('formándolos', 1), ('herramienta', 1), ('implementación', 1), ('importancia', 1), ('independencia', 1), ('instalación', 1), ('inteligente', 1), ('involucrarnos', 1), ('mantenerse', 1), ('maravilloso', 1), ('mientraslas', 1), ('modernidad', 1), ('movimiento', 1), ('participación', 1), ('perspectivo', 1), ('presidencia', 1), ('privilegiar', 1), ('profesional', 1), ('progresivo', 1), ('prosperidad', 1), ('recorrerla', 1), ('reencontrar', 1), ('rehabilitar', 1), ('revalorizar', 1), ('socializar', 1), ('testimoniar', 1), ('trabajador', 1), ('transmisión', 1), ('voluntario', 1), ('adolescente', 1), ('amedrentar', 1), ('amotinamiento', 1), ('carcelario', 1), ('centro_carcelario', 1), ('ciudadanía', 1), ('compatriota', 1), ('condolencia', 1), ('contundente', 1), ('definitivo', 1), ('delincuencial', 1), ('emergencia', 1), ('garantizar', 1), ('gobernador', 1), ('intervención', 1), ('lasfamilias', 1), ('prácticamente', 1), ('reestablecer', 1), ('restablecer', 1), ('solidaridad', 1), ('acompañarme', 1), ('bioseguridad', 1), ('certificar', 1), ('dedicación', 1), ('diariamente', 1), ('excedernos', 1), ('implementar', 1), ('información', 1), ('normalidad', 1), ('nuevamente', 1), ('posteriormente', 1), ('precautelar', 1), ('prioritario', 1), ('procedimiento', 1), ('sacrificio', 1), ('segundar_dosis', 1), ('transparente', 1), ('vacunación', 1), ('viceministro', 1), ('aproximadamente', 1), ('asambleísta', 1), ('ciertamente', 1), ('colaboración', 1), ('comunitario', 1), ('considerar', 1), ('conversación', 1), ('correspondiente', 1), ('desperdiciar', 1), ('distanciar', 1), ('educación_superior', 1), ('escandalizar', 1), ('esperanzar', 1), ('estratégico', 1), ('institucional', 1), ('joven_ecuatoriano', 1), ('penosamente', 1), ('pluralismo', 1), ('preocupación', 1), ('presencial', 1), ('presenciar', 1), ('reactivación', 1), ('reciprocidad', 1), ('reglamentar', 1), ('señor_presidente', 1), ('suficiente', 1), ('transnacional', 1), ('universidad', 1), ('universidad_libre', 1)]]\n"
          ]
        }
      ]
    },
    {
      "cell_type": "markdown",
      "source": [
        "# **Modelo LDA**"
      ],
      "metadata": {
        "id": "N3pZ_AJsuLvB"
      }
    },
    {
      "cell_type": "code",
      "source": [
        "#corpus ( iterable de lista de ( int , float ) , opcional ) – Flujo de vectores de documentos o matriz dispersa de forma \n",
        "#( num_documents , num_terms ). Si tiene una matriz en memoria CSC, puede convertirla en un corpus transmitido con la ayuda \n",
        "#de gensim.matutils.Sparse2Corpus. Si no se proporciona, el modelo se deja sin entrenar (presumiblemente porque desea llamar update()manualmente).\n",
        "#num_topics: cantidad de tópicos\n",
        "#id2word: diccionario\n",
        "#Alfa y eta: son hiperparámetros qe afectan la densidad de tópicos. El valor por defecto de ambos es 1/num_topics\n",
        "#Chuncksize: es el número de documentos a ser utilizados en cada pasada de entrenamiento.\n",
        "#Update_every: Cada cuanto se actualizan los parámetros del modelo.\n",
        "#passes: la cantidad de pasadas por el corpus durante el entrenamiento.\n",
        "#random_state: parámetro para controlar la aleatoriedad del proceso de entrenamiento y que nos devuelva siempre los mismos resultados.\n",
        "\n",
        "lda_model = LdaModel(\n",
        "    corpus=corpuss,\n",
        "    id2word=dic,\n",
        "    chunksize=6,\n",
        "    alpha='auto',\n",
        "    eta='auto',\n",
        "    iterations=1000,\n",
        "    random_state=1,\n",
        "    num_topics=5,\n",
        "    passes=1,\n",
        "    eval_every=5)\n",
        "\n",
        "\n",
        "lda_model.show_topics(num_words=7) \n"
      ],
      "metadata": {
        "colab": {
          "base_uri": "https://localhost:8080/"
        },
        "id": "kLj2oYMruL3C",
        "outputId": "6434622b-4157-4e68-9a0b-0fe59154f60e"
      },
      "execution_count": null,
      "outputs": [
        {
          "output_type": "execute_result",
          "data": {
            "text/plain": [
              "[(0,\n",
              "  '0.047*\"educación\" + 0.035*\"joven\" + 0.027*\"niño\" + 0.024*\"libre\" + 0.022*\"universidad\" + 0.014*\"estudiar\" + 0.014*\"señor_presidente\"'),\n",
              " (1,\n",
              "  '0.025*\"millón\" + 0.021*\"vacunación\" + 0.020*\"manera\" + 0.017*\"segundar_dosis\" + 0.015*\"apoyar\" + 0.013*\"próximo\" + 0.013*\"nuevamente\"'),\n",
              " (2,\n",
              "  '0.027*\"derecho\" + 0.025*\"carcelario\" + 0.023*\"ley\" + 0.019*\"centro_carcelario\" + 0.019*\"paz\" + 0.014*\"vez\" + 0.014*\"universidad\"'),\n",
              " (3,\n",
              "  '0.026*\"educación\" + 0.023*\"niño\" + 0.012*\"conocimiento\" + 0.011*\"llamar\" + 0.010*\"profesional\" + 0.010*\"excelencia\" + 0.009*\"joven\"'),\n",
              " (4,\n",
              "  '0.005*\"niño\" + 0.005*\"universidad\" + 0.005*\"educación\" + 0.005*\"universidad_libre\" + 0.005*\"señor_presidente\" + 0.005*\"joven_ecuatoriano\" + 0.005*\"educación_superior\"')]"
            ]
          },
          "metadata": {},
          "execution_count": 4
        }
      ]
    },
    {
      "cell_type": "code",
      "source": [
        "\n",
        "\n",
        "\n",
        "\n",
        "\n",
        "lda = LdaModel(corpus=corpuss, id2word=dic, \n",
        "                random_state=5, \n",
        "               chunksize=5, passes=1, alpha='auto')\n",
        "\n",
        "\n",
        "topicos = lda.print_topics(num_words=7, num_topics=20)\n",
        "for topico in topicos:\n",
        "    print(topico)\n"
      ],
      "metadata": {
        "colab": {
          "base_uri": "https://localhost:8080/"
        },
        "id": "7finDWZqkfWo",
        "outputId": "0faa0de3-17a5-4b08-a16e-63e928d3872a"
      },
      "execution_count": null,
      "outputs": [
        {
          "output_type": "stream",
          "name": "stdout",
          "text": [
            "(68, '0.004*\"condolencia\" + 0.004*\"compatriota\" + 0.004*\"definitivo\" + 0.004*\"decir\" + 0.004*\"decidir\" + 0.004*\"contundente\" + 0.004*\"derecho\"')\n",
            "(16, '0.004*\"condolencia\" + 0.004*\"compatriota\" + 0.004*\"definitivo\" + 0.004*\"decir\" + 0.004*\"decidir\" + 0.004*\"contundente\" + 0.004*\"derecho\"')\n",
            "(51, '0.004*\"condolencia\" + 0.004*\"compatriota\" + 0.004*\"definitivo\" + 0.004*\"decir\" + 0.004*\"decidir\" + 0.004*\"contundente\" + 0.004*\"derecho\"')\n",
            "(70, '0.004*\"condolencia\" + 0.004*\"compatriota\" + 0.004*\"definitivo\" + 0.004*\"decir\" + 0.004*\"decidir\" + 0.004*\"contundente\" + 0.004*\"derecho\"')\n",
            "(64, '0.004*\"condolencia\" + 0.004*\"compatriota\" + 0.004*\"definitivo\" + 0.004*\"decir\" + 0.004*\"decidir\" + 0.004*\"contundente\" + 0.004*\"derecho\"')\n",
            "(21, '0.004*\"condolencia\" + 0.004*\"compatriota\" + 0.004*\"definitivo\" + 0.004*\"decir\" + 0.004*\"decidir\" + 0.004*\"contundente\" + 0.004*\"derecho\"')\n",
            "(88, '0.004*\"condolencia\" + 0.004*\"compatriota\" + 0.004*\"definitivo\" + 0.004*\"decir\" + 0.004*\"decidir\" + 0.004*\"contundente\" + 0.004*\"derecho\"')\n",
            "(9, '0.004*\"condolencia\" + 0.004*\"compatriota\" + 0.004*\"definitivo\" + 0.004*\"decir\" + 0.004*\"decidir\" + 0.004*\"contundente\" + 0.004*\"derecho\"')\n",
            "(52, '0.004*\"condolencia\" + 0.004*\"compatriota\" + 0.004*\"definitivo\" + 0.004*\"decir\" + 0.004*\"decidir\" + 0.004*\"contundente\" + 0.004*\"derecho\"')\n",
            "(3, '0.004*\"condolencia\" + 0.004*\"compatriota\" + 0.004*\"definitivo\" + 0.004*\"decir\" + 0.004*\"decidir\" + 0.004*\"contundente\" + 0.004*\"derecho\"')\n",
            "(78, '0.035*\"alimentario\" + 0.034*\"agroalimentario\" + 0.025*\"millón\" + 0.023*\"gobernar\" + 0.021*\"alimentación\" + 0.021*\"procesar\" + 0.020*\"lamentablemente\"')\n",
            "(89, '0.064*\"niño\" + 0.047*\"educación\" + 0.027*\"llamar\" + 0.016*\"joven\" + 0.015*\"conocimiento\" + 0.014*\"caminar\" + 0.014*\"tarea\"')\n",
            "(4, '0.044*\"vacunación\" + 0.040*\"millón\" + 0.038*\"manera\" + 0.031*\"segundar_dosis\" + 0.029*\"apoyar\" + 0.024*\"certificar\" + 0.022*\"público\"')\n",
            "(19, '0.055*\"educación\" + 0.048*\"niño\" + 0.027*\"llamar\" + 0.019*\"joven\" + 0.017*\"profesional\" + 0.016*\"conocimiento\" + 0.015*\"vida\"')\n",
            "(71, '0.044*\"millón\" + 0.037*\"manera\" + 0.034*\"apoyar\" + 0.033*\"vacunación\" + 0.028*\"segundar_dosis\" + 0.023*\"próximo\" + 0.022*\"lograr\"')\n",
            "(33, '0.052*\"vacunación\" + 0.050*\"segundar_dosis\" + 0.049*\"certificar\" + 0.049*\"sacrificio\" + 0.049*\"información\" + 0.049*\"nuevamente\" + 0.048*\"posteriormente\"')\n",
            "(6, '0.053*\"carcelario\" + 0.050*\"centro_carcelario\" + 0.043*\"definitivo\" + 0.043*\"emergencia\" + 0.043*\"ciudadanía\" + 0.043*\"compatriota\" + 0.043*\"contundente\"')\n",
            "(13, '0.053*\"alimentación\" + 0.052*\"agroalimentario\" + 0.052*\"alimentario\" + 0.050*\"agricultor\" + 0.050*\"agricultura\" + 0.049*\"desnutrición\" + 0.049*\"solucionar\"')\n",
            "(56, '0.018*\"computador\" + 0.018*\"conciudadano\" + 0.017*\"mientraslas\" + 0.017*\"involucrarnos\" + 0.017*\"formándolos\" + 0.017*\"estudiantil\" + 0.017*\"trabajador\"')\n",
            "(44, '0.032*\"universidad\" + 0.027*\"universidad_libre\" + 0.027*\"señor_presidente\" + 0.025*\"joven_ecuatoriano\" + 0.025*\"educación_superior\" + 0.024*\"reglamentar\" + 0.024*\"preocupación\"')\n"
          ]
        },
        {
          "output_type": "stream",
          "name": "stderr",
          "text": [
            "/usr/local/lib/python3.7/dist-packages/gensim/models/ldamodel.py:1023: RuntimeWarning: divide by zero encountered in log\n",
            "  diff = np.log(self.expElogbeta)\n"
          ]
        }
      ]
    },
    {
      "cell_type": "code",
      "source": [
        "\n",
        "from seaborn import load_dataset\n",
        "import pandas as pd\n",
        "import numpy as np\n",
        "import random\n",
        "\n",
        "\n",
        "df = pd.DataFrame()\n",
        "df['Discurso'] = [corpus[0],corpus[1],corpus[2],corpus[3],corpus[4]]\n",
        "\n",
        "\n",
        "\n",
        "\n",
        "print(df)\n",
        "\n",
        "indice_discurso = random.randint(0,len(df))\n",
        "discurso = df.iloc[indice_discurso]\n",
        "print(discurso.Discurso)\n",
        "\n",
        "\n",
        "bow_discurso = corpuss[indice_discurso]\n",
        "distribucion_discurso = lda[bow_discurso]\n",
        "\n",
        "# Indices de los topicos mas significativos\n",
        "dist_indices = [topico[0] for topico in lda[bow_discurso]]\n",
        "# Contribución de los topicos mas significativos\n",
        "dist_contrib = [topico[1] for topico in lda[bow_discurso]]\n",
        "\n",
        "distribucion_topicos = pd.DataFrame({'Topico':dist_indices,\n",
        "                                     'Contribucion':dist_contrib })\n",
        "distribucion_topicos.sort_values('Contribucion', \n",
        "                                 ascending=False, inplace=True)\n",
        "ax = distribucion_topicos.plot.bar(y='Contribucion',x='Topico', \n",
        "                                   rot=0, color=\"orange\",\n",
        "                                   title = 'Tópicos mas importantes'\n",
        "                                   'del discurso ' + str(indice_discurso))\n",
        "\n",
        "\n",
        "for ind, topico in distribucion_topicos.iterrows():\n",
        "    print(\"*** Tópico: \" + str(int(topico.Topico)) + \" ***\")\n",
        "    palabras = [palabra[0] for palabra in lda.show_topic(\n",
        "        topicid=int(topico.Topico))]\n",
        "    palabras = ', '.join(palabras)\n",
        "    print(palabras, \"\\n\")\n"
      ],
      "metadata": {
        "colab": {
          "base_uri": "https://localhost:8080/",
          "height": 592
        },
        "id": "WuA1kWCqmTMO",
        "outputId": "9df95a37-b98e-49c3-aeba-81bad3ad5ec3"
      },
      "execution_count": null,
      "outputs": [
        {
          "output_type": "stream",
          "name": "stdout",
          "text": [
            "                                            Discurso\n",
            "0  apreciados jefes de estado y de gobierno  repr...\n",
            "1  señora maría brown pérez  ministra de educació...\n",
            "2  muy buenas tardes señora ministra de gobierno ...\n",
            "3  muy buenos días a todos  un gusto verlos  he c...\n",
            "4  señora guadalupe llori  presidenta de la asamb...\n",
            "muy buenos días a todos  un gusto verlos  he cumplido con el procedimiento de la segunda dosis de vacuna  así que ya estoy inmunizado  pero tenemos muy buenas noticias para todos los ecuatorianos  en primer lugar  ayer ya hemos roto nuevamente un récord  casi 170 mil vacunados  hasta la fecha  se ha vacunado en primera y segunda dosis a cerca de cinco millones de ecuatorianos  a partir del 5 de julio comenzamos una segunda etapa  con un plan que tiene previsto vacunar a seis millones de ecuatorianos adicionales  en  primera dosis  hasta finales de julio  y seis millones en segunda dosis  hasta finales de agosto  el sistema es masivo en todo el ecuador  en la costa  en la sierra en la amazonía  en galápagos ya está vacunado más del 95  de la población con las dos dosis  y hemos implementado sistemas transparentes de información actualizada  a través del  vacunómetro  del ministerio de salud pública  los certificados de vacunación se pueden obtener de manera digital  poniendo tu nombre  tu número de cédula    y tienes tu certificado  a la fecha  tenemos cerca de cuatro millones y medio de vacunas  sin contar con las que llegarán hasta finales de mes  así que  el proceso avanza  gracias a dios  hemos logrado conseguir las vacunas requeridas  lo que le pido al pueblo ecuatoriano es que ponga su hombro  porque es la manera de reactivar la economía  de recuperar la normalidad  de vivir en familia  en paz  con tranquilidad  eso sí  a pesar de las dos dosis  mantengamos la prudencia  usando mascarilla  utilizando alcohol y teniendo mucho cuidado de no excedernos en reuniones  con el número de personas que vayan más allá del establecido por las normas de bioseguridad   quiero destacar el trabajo del ministerio de salud  liderado por la doctora jimena garzón  e integrado también por el viceministro  el doctor josé ruales  el apoyo también de las fuerzas armadas ha sido fundamental  representado por el teniente coronel  gonzalo  pullas  quien es decano de la facultad de medicina de la espe  el apoyo del consejo nacional electoral del ecuador  representado de manera especial por el ingeniero enrique pita  el apoyo de los medios de comunicación  de todos ustedes que están difundiendo información diariamente y haciendo un llamado a la vacunación  también hay que reconocer el esfuerzo de la población ecuatoriana  los resultados que estamos logrando no son mérito exclusivo del gobierno  sino de todos los ciudadanos  especialmente  quiero destacar el esfuerzo y el sacrificio del personal médico del ministerio de salud pública  que trabaja de manera denodada  con mucha dedicación  con mucho sacrificio  haciendo una loable tarea para precautelar la salud de todos los ecuatorianos  les agradezco mucho por acompañarme en este momento de vacunación  así como lo he hecho yo  espero que lo hagan todos ustedes en los próximos días  sobre todo cuando a partir del próximo  lunes se empezarán a vacunar desde los 16 años de edad  por lo tanto  habrá ya una apertura completa para todos los segmentos de edades del grupo objetivo  que es el grupo prioritario  posteriormente  anunciaremos nuevas metas del plan de vacunación  que permitan comenzar a reactivar la economía  a generar empleo y nuevamente oportunidades para todos los ecuatorianos   muchas gracias a todos ustedes  queridos amigos  gracias   \n",
            "*** Tópico: 71 ***\n",
            "millón, manera, apoyar, vacunación, segundar_dosis, próximo, lograr, nuevamente, información, sacrificio \n",
            "\n",
            "*** Tópico: 33 ***\n",
            "vacunación, segundar_dosis, certificar, sacrificio, información, nuevamente, posteriormente, viceministro, bioseguridad, procedimiento \n",
            "\n",
            "*** Tópico: 6 ***\n",
            "carcelario, centro_carcelario, definitivo, emergencia, ciudadanía, compatriota, contundente, adolescente, delincuencial, lasfamilias \n",
            "\n"
          ]
        },
        {
          "output_type": "display_data",
          "data": {
            "text/plain": [
              "<Figure size 432x288 with 1 Axes>"
            ],
            "image/png": "[encoded data removed]"
          },
          "metadata": {
            "needs_background": "light"
          }
        }
      ]
    },
    {
      "cell_type": "code",
      "source": [
        "\n",
        "from nltk.tokenize import ToktokTokenizer\n",
        "texto = corpus[4]\n",
        "#limpiar texto \n",
        "def limpiar_texto(texto):\n",
        "    texto = re.sub(r'\\W', ' ', str(texto))\n",
        "    texto = re.sub(r'\\s+[a-zA-Z]\\s+', ' ', texto)\n",
        "    texto = re.sub(r'\\s+', ' ', texto, flags=re.I)\n",
        "    texto = texto.lower()\n",
        "    return texto\n",
        "dato = limpiar_texto(texto)\n",
        "\n",
        "#~lemma\n",
        "nlp = spacy.load(\"es_core_news_sm\")\n",
        "allowed_postags=[\"NOUN\",\"ADJ\", \"VERB\", \"ADV\"]\n",
        "doc = nlp(dato)\n",
        "new_text = []\n",
        "final=[]\n",
        "for token in doc:\n",
        "            if token.pos_ in allowed_postags: \n",
        "                new_text.append(token.lemma_)\n",
        "                final = \" \".join(new_text)\n",
        "\n",
        "\n",
        "\n",
        "# token \n",
        "tokenizer = ToktokTokenizer() \n",
        "dato =  tokenizer.tokenize(final)\n",
        "\n",
        "#stopwords\n",
        "STOPWORDS = set(stopwords.words(\"spanish\"))\n",
        "def filtrar_stopword(tokens):\n",
        "    return [token for token in tokens if token not in STOPWORDS \n",
        "            and not token.isdigit()]\n",
        "\n",
        "dato = filtrar_stopword(dato)\n",
        "bow_discurso_nuevo = dic.doc2bow(dato)\n",
        "\n",
        "\n",
        "\n",
        "# Indices de los topicos mas significativos\n",
        "dist_indices = [topico[0] for topico in lda[bow_discurso_nuevo]]\n",
        "# Contribucion de los topicos mas significativos\n",
        "dist_contrib = [topico[1] for topico in lda[bow_discurso_nuevo]]\n",
        "\n",
        "\n",
        "\n",
        "distribucion_topicos = pd.DataFrame({'Topico':dist_indices,\n",
        "                                     'Contribucion':dist_contrib })\n",
        "distribucion_topicos.sort_values('Contribucion', \n",
        "                                 ascending=False, inplace=True)\n",
        "ax = distribucion_topicos.plot.bar(y='Contribucion',x='Topico', \n",
        "                                   rot=0, color=\"green\",\n",
        "                                   title = 'Tópicos más importantes' \n",
        "                                   'para discurso nuevo')\n",
        "\n",
        "for ind, topico in distribucion_topicos.iterrows():\n",
        "    print(\"*** Tópico: \" + str(int(topico.Topico)) + \" ***\")\n",
        "    palabras = [palabra[0] for palabra in lda.show_topic(\n",
        "        topicid=int(topico.Topico))]\n",
        "    palabras = ', '.join(palabras)\n",
        "    print(palabras, \"\\n\")\n"
      ],
      "metadata": {
        "colab": {
          "base_uri": "https://localhost:8080/",
          "height": 346
        },
        "id": "2W3eC6457zXa",
        "outputId": "4787eff7-2aa1-4b38-fbd8-afa23e2360d2"
      },
      "execution_count": null,
      "outputs": [
        {
          "output_type": "stream",
          "name": "stdout",
          "text": [
            "*** Tópico: 44 ***\n",
            "universidad, universidad_libre, señor_presidente, joven_ecuatoriano, educación_superior, reglamentar, preocupación, asambleísta, correspondiente, esperanzar \n",
            "\n"
          ]
        },
        {
          "output_type": "display_data",
          "data": {
            "text/plain": [
              "<Figure size 432x288 with 1 Axes>"
            ],
            "image/png": "[encoded data removed]"
          },
          "metadata": {
            "needs_background": "light"
          }
        }
      ]
    },
    {
      "cell_type": "markdown",
      "source": [
        "# **Modelo NMF**"
      ],
      "metadata": {
        "id": "rD1-g5mkuTNl"
      }
    },
    {
      "cell_type": "code",
      "source": [
        "import pandas as pd \n",
        "from sklearn.decomposition import NMF\n",
        "from sklearn.feature_extraction.text import TfidfVectorizer\n",
        "\n",
        "vectorizer = CountVectorizer(max_df=0.9,stop_words =stopwords.words('spanish'), ngram_range=(1,2))\n",
        "X = vectorizer.fit_transform(lemmatized_texts)\n",
        "\n",
        "\n",
        "#print(vectorizer.get_feature_names_out())\n",
        "#print(X.toarray())\n",
        "print('\\n')\n",
        "\n",
        "\n",
        "model = NMF(n_components=5, init='random', random_state=0)\n",
        "W = model.fit_transform(X)\n",
        "#print(W)\n",
        "print('\\n')\n",
        "H = model.components_\n",
        "#print(H)\n",
        "print('\\n')\n",
        "\n",
        "\n",
        "nuvedatos=[]\n",
        "for index,topic in enumerate(H):\n",
        "    print(f'Discurso #{index}')\n",
        "    print([vectorizer.get_feature_names()[i] for i in topic.argsort()[-7:]])\n",
        "    nuvedatos.append([vectorizer.get_feature_names()[i] for i in topic.argsort()[-7:]]) \n",
        " \n",
        "print('\\n')\n",
        "#fin de NMF\n",
        "\n",
        "#nube de palabras\n",
        "text = \"\" \n",
        "for word in nuvedatos[4]: \n",
        "      text = text + \" \" + word     \n",
        "     \n",
        "import matplotlib.pyplot as plt\n",
        "from wordcloud import WordCloud\n",
        "%matplotlib inline\n",
        "\n",
        "\n",
        "for i in range(0,1):\n",
        "      plt.figure()\n",
        "      plt.imshow(WordCloud(background_color ='white', prefer_horizontal=1.0 ).generate(text))\n",
        "      plt.axis(\"off\")\n",
        "      plt.title(\"tópico\"+str(i))\n",
        "      plt.show()"
      ],
      "metadata": {
        "colab": {
          "base_uri": "https://localhost:8080/",
          "height": 581
        },
        "id": "ye2woT3-uS2F",
        "outputId": "8711c8d6-3fc5-438d-9dd5-ac8dabd78238"
      },
      "execution_count": null,
      "outputs": [
        {
          "output_type": "stream",
          "name": "stdout",
          "text": [
            "\n",
            "\n",
            "\n",
            "\n",
            "\n",
            "\n",
            "Discurso #0\n",
            "['escuela', 'hoy', 'país', 'educativo', 'niño', 'encontrar', 'educación']\n",
            "Discurso #1\n",
            "['policía', 'incidente', 'respaldar', 'derecho', 'centro', 'carcelario', 'señor']\n",
            "Discurso #2\n",
            "['segundar', 'vacunación', 'manera', 'hacer', 'vacunar', 'dosis', 'ecuatoriano']\n",
            "Discurso #3\n",
            "['educación', 'ecuatoriano', 'libre', 'presidente', 'universidad', 'joven', 'señor']\n",
            "Discurso #4\n",
            "['millón', 'agroalimentario', 'alimentario', 'alimentación', 'gobernar', 'año', 'país']\n",
            "\n",
            "\n"
          ]
        },
        {
          "output_type": "stream",
          "name": "stderr",
          "text": [
            "/usr/local/lib/python3.7/dist-packages/sklearn/utils/deprecation.py:87: FutureWarning: Function get_feature_names is deprecated; get_feature_names is deprecated in 1.0 and will be removed in 1.2. Please use get_feature_names_out instead.\n",
            "  warnings.warn(msg, category=FutureWarning)\n"
          ]
        },
        {
          "output_type": "display_data",
          "data": {
            "text/plain": [
              "<Figure size 432x288 with 1 Axes>"
            ],
            "image/png": "[encoded data removed]"
          },
          "metadata": {
            "needs_background": "light"
          }
        }
      ]
    }
  ]
}
